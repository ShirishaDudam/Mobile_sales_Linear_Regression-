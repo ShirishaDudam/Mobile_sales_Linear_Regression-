{
 "cells": [
  {
   "cell_type": "code",
   "execution_count": 132,
   "id": "6a4c92c0-6511-44f2-b9b7-b0195732e044",
   "metadata": {},
   "outputs": [],
   "source": [
    "import pandas as pd\n",
    "import numpy as np"
   ]
  },
  {
   "cell_type": "code",
   "execution_count": 133,
   "id": "a692867f-3b36-438d-84a3-18024377c768",
   "metadata": {},
   "outputs": [
    {
     "data": {
      "text/html": [
       "<div>\n",
       "<style scoped>\n",
       "    .dataframe tbody tr th:only-of-type {\n",
       "        vertical-align: middle;\n",
       "    }\n",
       "\n",
       "    .dataframe tbody tr th {\n",
       "        vertical-align: top;\n",
       "    }\n",
       "\n",
       "    .dataframe thead th {\n",
       "        text-align: right;\n",
       "    }\n",
       "</style>\n",
       "<table border=\"1\" class=\"dataframe\">\n",
       "  <thead>\n",
       "    <tr style=\"text-align: right;\">\n",
       "      <th></th>\n",
       "      <th>TransactionID</th>\n",
       "      <th>Date</th>\n",
       "      <th>MobileModel</th>\n",
       "      <th>Brand</th>\n",
       "      <th>Price</th>\n",
       "      <th>UnitsSold</th>\n",
       "      <th>TotalRevenue</th>\n",
       "      <th>CustomerAge</th>\n",
       "      <th>CustomerGender</th>\n",
       "      <th>Location</th>\n",
       "      <th>PaymentMethod</th>\n",
       "    </tr>\n",
       "  </thead>\n",
       "  <tbody>\n",
       "    <tr>\n",
       "      <th>0</th>\n",
       "      <td>79397f68-61ed-4ea8-bcb2-f918d4e6c05b</td>\n",
       "      <td>2024-01-06</td>\n",
       "      <td>direction</td>\n",
       "      <td>Green Inc</td>\n",
       "      <td>1196.95</td>\n",
       "      <td>85</td>\n",
       "      <td>28002.80</td>\n",
       "      <td>32</td>\n",
       "      <td>Female</td>\n",
       "      <td>Port Erik</td>\n",
       "      <td>Online</td>\n",
       "    </tr>\n",
       "    <tr>\n",
       "      <th>1</th>\n",
       "      <td>4f87d114-f522-4ead-93e3-f336402df6aa</td>\n",
       "      <td>2024-04-05</td>\n",
       "      <td>right</td>\n",
       "      <td>Thomas-Thompson</td>\n",
       "      <td>1010.34</td>\n",
       "      <td>64</td>\n",
       "      <td>2378.82</td>\n",
       "      <td>55</td>\n",
       "      <td>Female</td>\n",
       "      <td>East Linda</td>\n",
       "      <td>Credit Card</td>\n",
       "    </tr>\n",
       "    <tr>\n",
       "      <th>2</th>\n",
       "      <td>6750b7d6-dcc5-48c5-a76a-b6fc9d540fe1</td>\n",
       "      <td>2024-02-13</td>\n",
       "      <td>summer</td>\n",
       "      <td>Sanchez-Williams</td>\n",
       "      <td>400.80</td>\n",
       "      <td>95</td>\n",
       "      <td>31322.56</td>\n",
       "      <td>57</td>\n",
       "      <td>Male</td>\n",
       "      <td>East Angelicastad</td>\n",
       "      <td>Online</td>\n",
       "    </tr>\n",
       "    <tr>\n",
       "      <th>3</th>\n",
       "      <td>7da7de95-f772-4cc2-bce0-b0873f98233e</td>\n",
       "      <td>2024-04-17</td>\n",
       "      <td>keep</td>\n",
       "      <td>Greer and Sons</td>\n",
       "      <td>338.60</td>\n",
       "      <td>79</td>\n",
       "      <td>31159.75</td>\n",
       "      <td>46</td>\n",
       "      <td>Other</td>\n",
       "      <td>East Kevin</td>\n",
       "      <td>Cash</td>\n",
       "    </tr>\n",
       "    <tr>\n",
       "      <th>4</th>\n",
       "      <td>469044af-0d60-4d87-af66-c6603e844057</td>\n",
       "      <td>2024-06-02</td>\n",
       "      <td>option</td>\n",
       "      <td>Brown and Sons</td>\n",
       "      <td>839.79</td>\n",
       "      <td>41</td>\n",
       "      <td>11523.36</td>\n",
       "      <td>38</td>\n",
       "      <td>Male</td>\n",
       "      <td>New Lindaborough</td>\n",
       "      <td>Online</td>\n",
       "    </tr>\n",
       "    <tr>\n",
       "      <th>5</th>\n",
       "      <td>f7e98db9-cb87-453e-8179-e48ba5443932</td>\n",
       "      <td>2024-03-07</td>\n",
       "      <td>idea</td>\n",
       "      <td>Massey, Nicholson and Young</td>\n",
       "      <td>1498.13</td>\n",
       "      <td>70</td>\n",
       "      <td>9703.89</td>\n",
       "      <td>45</td>\n",
       "      <td>Female</td>\n",
       "      <td>Port Daryl</td>\n",
       "      <td>Debit Card</td>\n",
       "    </tr>\n",
       "    <tr>\n",
       "      <th>6</th>\n",
       "      <td>61f1c03f-5527-49bf-88f6-0d8694e72d41</td>\n",
       "      <td>2024-07-13</td>\n",
       "      <td>southern</td>\n",
       "      <td>Coleman-Pena</td>\n",
       "      <td>975.77</td>\n",
       "      <td>63</td>\n",
       "      <td>8300.22</td>\n",
       "      <td>23</td>\n",
       "      <td>Other</td>\n",
       "      <td>Kathrynborough</td>\n",
       "      <td>Online</td>\n",
       "    </tr>\n",
       "    <tr>\n",
       "      <th>7</th>\n",
       "      <td>55d74ccb-e3c0-4ceb-a102-6d553736b944</td>\n",
       "      <td>2024-03-18</td>\n",
       "      <td>top</td>\n",
       "      <td>Brock, Cruz and Santiago</td>\n",
       "      <td>530.70</td>\n",
       "      <td>79</td>\n",
       "      <td>4515.80</td>\n",
       "      <td>26</td>\n",
       "      <td>Female</td>\n",
       "      <td>Kyleborough</td>\n",
       "      <td>Online</td>\n",
       "    </tr>\n",
       "    <tr>\n",
       "      <th>8</th>\n",
       "      <td>889bd479-e06a-494d-baae-e099bea5469c</td>\n",
       "      <td>2024-04-12</td>\n",
       "      <td>anything</td>\n",
       "      <td>Griffin, Boyle and Dawson</td>\n",
       "      <td>178.52</td>\n",
       "      <td>58</td>\n",
       "      <td>36150.93</td>\n",
       "      <td>20</td>\n",
       "      <td>Female</td>\n",
       "      <td>Jacquelinestad</td>\n",
       "      <td>Debit Card</td>\n",
       "    </tr>\n",
       "    <tr>\n",
       "      <th>9</th>\n",
       "      <td>567c276b-fec4-47e4-b5be-71f2b79bd745</td>\n",
       "      <td>2024-04-19</td>\n",
       "      <td>wall</td>\n",
       "      <td>Arroyo, Jones and Clayton</td>\n",
       "      <td>774.79</td>\n",
       "      <td>92</td>\n",
       "      <td>24228.27</td>\n",
       "      <td>33</td>\n",
       "      <td>Male</td>\n",
       "      <td>South Jessicachester</td>\n",
       "      <td>Online</td>\n",
       "    </tr>\n",
       "  </tbody>\n",
       "</table>\n",
       "</div>"
      ],
      "text/plain": [
       "                          TransactionID        Date MobileModel  \\\n",
       "0  79397f68-61ed-4ea8-bcb2-f918d4e6c05b  2024-01-06   direction   \n",
       "1  4f87d114-f522-4ead-93e3-f336402df6aa  2024-04-05       right   \n",
       "2  6750b7d6-dcc5-48c5-a76a-b6fc9d540fe1  2024-02-13      summer   \n",
       "3  7da7de95-f772-4cc2-bce0-b0873f98233e  2024-04-17        keep   \n",
       "4  469044af-0d60-4d87-af66-c6603e844057  2024-06-02      option   \n",
       "5  f7e98db9-cb87-453e-8179-e48ba5443932  2024-03-07        idea   \n",
       "6  61f1c03f-5527-49bf-88f6-0d8694e72d41  2024-07-13    southern   \n",
       "7  55d74ccb-e3c0-4ceb-a102-6d553736b944  2024-03-18         top   \n",
       "8  889bd479-e06a-494d-baae-e099bea5469c  2024-04-12    anything   \n",
       "9  567c276b-fec4-47e4-b5be-71f2b79bd745  2024-04-19        wall   \n",
       "\n",
       "                         Brand    Price  UnitsSold  TotalRevenue  CustomerAge  \\\n",
       "0                    Green Inc  1196.95         85      28002.80           32   \n",
       "1              Thomas-Thompson  1010.34         64       2378.82           55   \n",
       "2             Sanchez-Williams   400.80         95      31322.56           57   \n",
       "3               Greer and Sons   338.60         79      31159.75           46   \n",
       "4               Brown and Sons   839.79         41      11523.36           38   \n",
       "5  Massey, Nicholson and Young  1498.13         70       9703.89           45   \n",
       "6                 Coleman-Pena   975.77         63       8300.22           23   \n",
       "7     Brock, Cruz and Santiago   530.70         79       4515.80           26   \n",
       "8    Griffin, Boyle and Dawson   178.52         58      36150.93           20   \n",
       "9    Arroyo, Jones and Clayton   774.79         92      24228.27           33   \n",
       "\n",
       "  CustomerGender              Location PaymentMethod  \n",
       "0         Female             Port Erik        Online  \n",
       "1         Female            East Linda   Credit Card  \n",
       "2           Male     East Angelicastad        Online  \n",
       "3          Other            East Kevin          Cash  \n",
       "4           Male      New Lindaborough        Online  \n",
       "5         Female            Port Daryl    Debit Card  \n",
       "6          Other        Kathrynborough        Online  \n",
       "7         Female           Kyleborough        Online  \n",
       "8         Female        Jacquelinestad    Debit Card  \n",
       "9           Male  South Jessicachester        Online  "
      ]
     },
     "execution_count": 133,
     "metadata": {},
     "output_type": "execute_result"
    }
   ],
   "source": [
    "df = pd.read_csv('mobile_sales.csv')\n",
    "df.head(10)"
   ]
  },
  {
   "cell_type": "code",
   "execution_count": 134,
   "id": "494836fe-633b-458e-9bd2-f696c4a873d7",
   "metadata": {},
   "outputs": [
    {
     "data": {
      "text/plain": [
       "TransactionID     0.0\n",
       "Date              0.0\n",
       "MobileModel       0.0\n",
       "Brand             0.0\n",
       "Price             0.0\n",
       "UnitsSold         0.0\n",
       "TotalRevenue      0.0\n",
       "CustomerAge       0.0\n",
       "CustomerGender    0.0\n",
       "Location          0.0\n",
       "PaymentMethod     0.0\n",
       "dtype: float64"
      ]
     },
     "execution_count": 134,
     "metadata": {},
     "output_type": "execute_result"
    }
   ],
   "source": [
    "df.isnull().sum()*100/df.shape[0]"
   ]
  },
  {
   "cell_type": "code",
   "execution_count": 135,
   "id": "65eb34cc-cdce-4c00-b8cf-90744cc353b3",
   "metadata": {},
   "outputs": [
    {
     "data": {
      "text/plain": [
       "(1000, 11)"
      ]
     },
     "execution_count": 135,
     "metadata": {},
     "output_type": "execute_result"
    }
   ],
   "source": [
    "df.shape"
   ]
  },
  {
   "cell_type": "code",
   "execution_count": 136,
   "id": "be9ecdd0-625e-4359-b3f3-641535d73bb2",
   "metadata": {},
   "outputs": [
    {
     "name": "stdout",
     "output_type": "stream",
     "text": [
      "<class 'pandas.core.frame.DataFrame'>\n",
      "RangeIndex: 1000 entries, 0 to 999\n",
      "Data columns (total 11 columns):\n",
      " #   Column          Non-Null Count  Dtype  \n",
      "---  ------          --------------  -----  \n",
      " 0   TransactionID   1000 non-null   object \n",
      " 1   Date            1000 non-null   object \n",
      " 2   MobileModel     1000 non-null   object \n",
      " 3   Brand           1000 non-null   object \n",
      " 4   Price           1000 non-null   float64\n",
      " 5   UnitsSold       1000 non-null   int64  \n",
      " 6   TotalRevenue    1000 non-null   float64\n",
      " 7   CustomerAge     1000 non-null   int64  \n",
      " 8   CustomerGender  1000 non-null   object \n",
      " 9   Location        1000 non-null   object \n",
      " 10  PaymentMethod   1000 non-null   object \n",
      "dtypes: float64(2), int64(2), object(7)\n",
      "memory usage: 86.1+ KB\n"
     ]
    }
   ],
   "source": [
    "df.info()"
   ]
  },
  {
   "cell_type": "code",
   "execution_count": 137,
   "id": "9f73a96b-a5f9-46fd-860e-848fe5b9d68c",
   "metadata": {},
   "outputs": [],
   "source": [
    "num= []\n",
    "cat=[]\n",
    "for i in df.columns:\n",
    "    if df[i].dtype=='object':\n",
    "        cat.append(i)\n",
    "    else:\n",
    "        num.append(i)"
   ]
  },
  {
   "cell_type": "code",
   "execution_count": 138,
   "id": "2702f931-ecae-49a6-80a4-d38fc994e53d",
   "metadata": {},
   "outputs": [
    {
     "data": {
      "text/plain": [
       "['TransactionID',\n",
       " 'Date',\n",
       " 'MobileModel',\n",
       " 'Brand',\n",
       " 'CustomerGender',\n",
       " 'Location',\n",
       " 'PaymentMethod']"
      ]
     },
     "execution_count": 138,
     "metadata": {},
     "output_type": "execute_result"
    }
   ],
   "source": [
    "cat "
   ]
  },
  {
   "cell_type": "code",
   "execution_count": 139,
   "id": "e229112d-7f5c-47b3-8929-085a9e35db61",
   "metadata": {},
   "outputs": [
    {
     "data": {
      "text/plain": [
       "['Price', 'UnitsSold', 'TotalRevenue', 'CustomerAge']"
      ]
     },
     "execution_count": 139,
     "metadata": {},
     "output_type": "execute_result"
    }
   ],
   "source": [
    "num"
   ]
  },
  {
   "cell_type": "code",
   "execution_count": 140,
   "id": "292ae81d-7773-4efe-9271-c2efb06d9eea",
   "metadata": {},
   "outputs": [],
   "source": [
    "import matplotlib.pyplot as plt"
   ]
  },
  {
   "cell_type": "code",
   "execution_count": 141,
   "id": "1358b769-471e-4da0-9c2e-b614f1399415",
   "metadata": {},
   "outputs": [
    {
     "name": "stdout",
     "output_type": "stream",
     "text": [
      "TransactionID\n",
      "79397f68-61ed-4ea8-bcb2-f918d4e6c05b    1\n",
      "077487a5-61c4-4f29-bd88-49901d7b47e7    1\n",
      "311d7378-b019-49fb-9017-8788c4c091e0    1\n",
      "05bf8989-63bc-40ab-ad98-faae40d6b08e    1\n",
      "73dd38ab-73cc-472e-87bf-a2b8fcdf15ec    1\n",
      "                                       ..\n",
      "8387a168-4638-412f-8721-9ceebeba72fe    1\n",
      "a01cf58f-776a-44aa-9bf0-acb2e791bf54    1\n",
      "19f710fc-8045-441d-b796-c40779f245a7    1\n",
      "a1c23386-aa43-4d7b-b657-6edfec9c41dd    1\n",
      "d3e82026-2084-40f2-8d5d-d2a94a198af9    1\n",
      "Name: count, Length: 1000, dtype: int64\n"
     ]
    },
    {
     "data": {
      "image/png": "[encoded data removed]",
      "text/plain": [
       "<Figure size 640x480 with 1 Axes>"
      ]
     },
     "metadata": {},
     "output_type": "display_data"
    },
    {
     "name": "stdout",
     "output_type": "stream",
     "text": [
      "Date\n",
      "2024-01-27    11\n",
      "2024-01-02    11\n",
      "2024-06-10    10\n",
      "2024-02-25    10\n",
      "2024-04-14    10\n",
      "              ..\n",
      "2024-06-19     1\n",
      "2024-04-12     1\n",
      "2024-03-05     1\n",
      "2024-04-20     1\n",
      "2024-06-17     1\n",
      "Name: count, Length: 205, dtype: int64\n"
     ]
    },
    {
     "data": {
      "image/png": "[encoded data removed]",
      "text/plain": [
       "<Figure size 640x480 with 1 Axes>"
      ]
     },
     "metadata": {},
     "output_type": "display_data"
    },
    {
     "name": "stdout",
     "output_type": "stream",
     "text": [
      "MobileModel\n",
      "many       5\n",
      "service    5\n",
      "eat        4\n",
      "believe    4\n",
      "mouth      4\n",
      "          ..\n",
      "see        1\n",
      "listen     1\n",
      "policy     1\n",
      "change     1\n",
      "memory     1\n",
      "Name: count, Length: 637, dtype: int64\n"
     ]
    },
    {
     "data": {
      "image/png": "[encoded data removed]",
      "text/plain": [
       "<Figure size 640x480 with 1 Axes>"
      ]
     },
     "metadata": {},
     "output_type": "display_data"
    },
    {
     "name": "stdout",
     "output_type": "stream",
     "text": [
      "Brand\n",
      "Martinez Ltd                   3\n",
      "Sanchez PLC                    3\n",
      "Ramos and Sons                 2\n",
      "Williams Group                 2\n",
      "Miller and Sons                2\n",
      "                              ..\n",
      "Jackson, Collier and Barber    1\n",
      "Perez and Sons                 1\n",
      "Ayers and Sons                 1\n",
      "Holland PLC                    1\n",
      "Kim, Maxwell and Moore         1\n",
      "Name: count, Length: 980, dtype: int64\n"
     ]
    },
    {
     "data": {
      "image/png": "[encoded data removed]",
      "text/plain": [
       "<Figure size 640x480 with 1 Axes>"
      ]
     },
     "metadata": {},
     "output_type": "display_data"
    },
    {
     "name": "stdout",
     "output_type": "stream",
     "text": [
      "CustomerGender\n",
      "Female    341\n",
      "Other     339\n",
      "Male      320\n",
      "Name: count, dtype: int64\n"
     ]
    },
    {
     "data": {
      "image/png": "[encoded data removed]",
      "text/plain": [
       "<Figure size 640x480 with 1 Axes>"
      ]
     },
     "metadata": {},
     "output_type": "display_data"
    },
    {
     "name": "stdout",
     "output_type": "stream",
     "text": [
      "Location\n",
      "West Michael      4\n",
      "Michaelland       3\n",
      "Michaelhaven      3\n",
      "East Kenneth      2\n",
      "New Maria         2\n",
      "                 ..\n",
      "New Lisaville     1\n",
      "East Markburgh    1\n",
      "Hawkinsberg       1\n",
      "East Elizabeth    1\n",
      "Port Luis         1\n",
      "Name: count, Length: 963, dtype: int64\n"
     ]
    },
    {
     "data": {
      "image/png": "[encoded data removed]",
      "text/plain": [
       "<Figure size 640x480 with 1 Axes>"
      ]
     },
     "metadata": {},
     "output_type": "display_data"
    },
    {
     "name": "stdout",
     "output_type": "stream",
     "text": [
      "PaymentMethod\n",
      "Credit Card    278\n",
      "Online         259\n",
      "Debit Card     246\n",
      "Cash           217\n",
      "Name: count, dtype: int64\n"
     ]
    },
    {
     "data": {
      "image/png": "[encoded data removed]",
      "text/plain": [
       "<Figure size 640x480 with 1 Axes>"
      ]
     },
     "metadata": {},
     "output_type": "display_data"
    }
   ],
   "source": [
    "for i in cat:\n",
    "    plt.title(i)\n",
    "    print(df[i].value_counts())\n",
    "    i = df[i].value_counts()\n",
    "    plt.bar(x=i.index, height = i)\n",
    "    plt.show()"
   ]
  },
  {
   "cell_type": "code",
   "execution_count": 142,
   "id": "6006cf8e-a26a-4486-829a-f5abe9a6a573",
   "metadata": {},
   "outputs": [],
   "source": [
    "# drop TransactionID, date, "
   ]
  },
  {
   "cell_type": "code",
   "execution_count": 143,
   "id": "74db7433-c195-4829-9e71-d6eed7f6b055",
   "metadata": {},
   "outputs": [],
   "source": [
    "import matplotlib.pyplot as plt \n",
    "import seaborn as sns"
   ]
  },
  {
   "cell_type": "code",
   "execution_count": 144,
   "id": "9643bbdf-eafe-4622-895b-de8d48ce56f1",
   "metadata": {
    "scrolled": true
   },
   "outputs": [
    {
     "data": {
      "image/png": "[encoded data removed]",
      "text/plain": [
       "<Figure size 640x480 with 1 Axes>"
      ]
     },
     "metadata": {},
     "output_type": "display_data"
    },
    {
     "data": {
      "image/png": "[encoded data removed]",
      "text/plain": [
       "<Figure size 640x480 with 1 Axes>"
      ]
     },
     "metadata": {},
     "output_type": "display_data"
    },
    {
     "data": {
      "image/png": "[encoded data removed]",
      "text/plain": [
       "<Figure size 640x480 with 1 Axes>"
      ]
     },
     "metadata": {},
     "output_type": "display_data"
    },
    {
     "data": {
      "image/png": "[encoded data removed]",
      "text/plain": [
       "<Figure size 640x480 with 1 Axes>"
      ]
     },
     "metadata": {},
     "output_type": "display_data"
    }
   ],
   "source": [
    "for i in num :\n",
    "    sns.boxplot(df[i])\n",
    "    plt.show()"
   ]
  },
  {
   "cell_type": "code",
   "execution_count": 145,
   "id": "2ad37adf-c147-44fd-81b6-a5dced4ca777",
   "metadata": {},
   "outputs": [
    {
     "data": {
      "text/plain": [
       "count      1000.000000\n",
       "mean      40218.445040\n",
       "std       32715.290358\n",
       "min         116.850000\n",
       "25%       13316.037500\n",
       "50%       30860.655000\n",
       "75%       60770.435000\n",
       "max      141411.840000\n",
       "Name: TotalRevenue, dtype: float64"
      ]
     },
     "execution_count": 145,
     "metadata": {},
     "output_type": "execute_result"
    }
   ],
   "source": [
    "df['TotalRevenue'].describe()"
   ]
  },
  {
   "cell_type": "code",
   "execution_count": 146,
   "id": "d16a1e5b-f23a-4c5c-acce-937d2fe14e0a",
   "metadata": {},
   "outputs": [],
   "source": [
    "q1= df['TotalRevenue'].quantile(0.25)\n",
    "q3= df['TotalRevenue'].quantile(0.75)\n",
    "iqr= q3-q1\n",
    "lf= q1- 1.5*iqr\n",
    "uf= q3+ 1.5*iqr\n",
    "outliers= df[(df['TotalRevenue']<lf) | (df['TotalRevenue']>uf)]"
   ]
  },
  {
   "cell_type": "code",
   "execution_count": 147,
   "id": "1a0892c0-b3f1-4a00-bfed-8e13a306e891",
   "metadata": {},
   "outputs": [
    {
     "data": {
      "image/png": "[encoded data removed]",
      "text/plain": [
       "<Figure size 600x400 with 2 Axes>"
      ]
     },
     "metadata": {},
     "output_type": "display_data"
    }
   ],
   "source": [
    "fig, ax= plt.subplots(1,2, figsize=(6,4))\n",
    "ax[0].boxplot(df['TotalRevenue'])\n",
    "ax[1].hist(df['TotalRevenue'])\n",
    "plt.suptitle('TotalRevenue')\n",
    "plt.show()"
   ]
  },
  {
   "cell_type": "code",
   "execution_count": 148,
   "id": "77e92b6d-f240-47e4-8aa5-aca3d677d2e7",
   "metadata": {},
   "outputs": [
    {
     "name": "stderr",
     "output_type": "stream",
     "text": [
      "C:\\Users\\Lenovo\\AppData\\Local\\Temp\\ipykernel_16616\\1789993324.py:1: FutureWarning: Setting an item of incompatible dtype is deprecated and will raise in a future error of pandas. Value '30860.655' has dtype incompatible with int64, please explicitly cast to a compatible dtype first.\n",
      "  df.loc[(df['TotalRevenue']<lf) | (df['TotalRevenue']>uf)]= df['TotalRevenue'].median()\n"
     ]
    }
   ],
   "source": [
    "df.loc[(df['TotalRevenue']<lf) | (df['TotalRevenue']>uf)]= df['TotalRevenue'].median()"
   ]
  },
  {
   "cell_type": "code",
   "execution_count": 149,
   "id": "be813878-757a-4626-9454-7f2ce99d68ce",
   "metadata": {},
   "outputs": [
    {
     "data": {
      "text/plain": [
       "<Axes: >"
      ]
     },
     "execution_count": 149,
     "metadata": {},
     "output_type": "execute_result"
    },
    {
     "data": {
      "image/png": "[encoded data removed]",
      "text/plain": [
       "<Figure size 640x480 with 1 Axes>"
      ]
     },
     "metadata": {},
     "output_type": "display_data"
    }
   ],
   "source": [
    "sns.boxplot(df['TotalRevenue'])"
   ]
  },
  {
   "cell_type": "code",
   "execution_count": 150,
   "id": "fdbfe75d-615b-491f-bffc-12f966990aeb",
   "metadata": {},
   "outputs": [
    {
     "data": {
      "text/plain": [
       "['TransactionID',\n",
       " 'Date',\n",
       " 'MobileModel',\n",
       " 'Brand',\n",
       " 'CustomerGender',\n",
       " 'Location',\n",
       " 'PaymentMethod']"
      ]
     },
     "execution_count": 150,
     "metadata": {},
     "output_type": "execute_result"
    }
   ],
   "source": [
    "cat"
   ]
  },
  {
   "cell_type": "code",
   "execution_count": 151,
   "id": "eff68c1f-05cf-4605-bbd8-3e4a84189a3a",
   "metadata": {},
   "outputs": [
    {
     "name": "stdout",
     "output_type": "stream",
     "text": [
      "TransactionID\n",
      "995\n",
      "Date\n",
      "206\n",
      "MobileModel\n",
      "635\n",
      "Brand\n",
      "975\n",
      "CustomerGender\n",
      "4\n",
      "Location\n",
      "959\n",
      "PaymentMethod\n",
      "5\n"
     ]
    }
   ],
   "source": [
    "for i in cat : \n",
    "    print(i)\n",
    "    print(df[i].nunique())"
   ]
  },
  {
   "cell_type": "code",
   "execution_count": 152,
   "id": "9e8800cd-62df-41b4-80aa-ca5d16622734",
   "metadata": {},
   "outputs": [
    {
     "data": {
      "text/plain": [
       "PaymentMethod\n",
       "Credit Card    277\n",
       "Online         259\n",
       "Debit Card     243\n",
       "Cash           215\n",
       "30860.655        6\n",
       "Name: count, dtype: int64"
      ]
     },
     "execution_count": 152,
     "metadata": {},
     "output_type": "execute_result"
    }
   ],
   "source": [
    "df['PaymentMethod'].value_counts()"
   ]
  },
  {
   "cell_type": "code",
   "execution_count": 153,
   "id": "bd84c632-c6ff-4707-8dd3-7524a791a4e2",
   "metadata": {},
   "outputs": [],
   "source": [
    "df = df[df[\"PaymentMethod\"] != \"30860.655\"]"
   ]
  },
  {
   "cell_type": "code",
   "execution_count": 154,
   "id": "2550ea8f-0c6a-4f34-8a7a-785e6b7d3f4f",
   "metadata": {},
   "outputs": [
    {
     "name": "stdout",
     "output_type": "stream",
     "text": [
      "object\n"
     ]
    }
   ],
   "source": [
    "print(df[\"PaymentMethod\"].dtype)\n"
   ]
  },
  {
   "cell_type": "code",
   "execution_count": 155,
   "id": "73ff24cd-eaba-4233-ba63-9050f2b66ab6",
   "metadata": {},
   "outputs": [
    {
     "data": {
      "text/plain": [
       "(1000,)"
      ]
     },
     "execution_count": 155,
     "metadata": {},
     "output_type": "execute_result"
    }
   ],
   "source": [
    "df[\"PaymentMethod\"].shape"
   ]
  },
  {
   "cell_type": "code",
   "execution_count": 156,
   "id": "1deb980c-64b4-45da-892f-0ceb11f3c2f1",
   "metadata": {},
   "outputs": [],
   "source": [
    "df[\"PaymentMethod\"] = df[\"PaymentMethod\"].astype(\"str\")"
   ]
  },
  {
   "cell_type": "code",
   "execution_count": 157,
   "id": "e7a3d916-6baa-4aac-90a9-0ecfcd1437af",
   "metadata": {},
   "outputs": [
    {
     "data": {
      "text/plain": [
       "(1000, 11)"
      ]
     },
     "execution_count": 157,
     "metadata": {},
     "output_type": "execute_result"
    }
   ],
   "source": [
    "df.shape"
   ]
  },
  {
   "cell_type": "code",
   "execution_count": 158,
   "id": "595cbee2-eb63-49a8-bd93-b70271ad9d41",
   "metadata": {},
   "outputs": [],
   "source": [
    "from sklearn.preprocessing import OneHotEncoder"
   ]
  },
  {
   "cell_type": "code",
   "execution_count": 159,
   "id": "f5009516-794a-4a56-83ea-4419329f51b1",
   "metadata": {},
   "outputs": [],
   "source": [
    "ohe= OneHotEncoder(sparse_output= False)\n",
    "PaymentMethod= ohe.fit_transform(df[[\"PaymentMethod\"]])\n",
    "PaymentMethod= pd.DataFrame(PaymentMethod,columns= ohe.categories_ )\n",
    "PaymentMethod.drop('30860.655', axis= 1, inplace=True)"
   ]
  },
  {
   "cell_type": "code",
   "execution_count": 160,
   "id": "5dc69b28-bcc9-49db-b4d3-2eef0d42c3f0",
   "metadata": {
    "scrolled": true
   },
   "outputs": [
    {
     "data": {
      "text/html": [
       "<div>\n",
       "<style scoped>\n",
       "    .dataframe tbody tr th:only-of-type {\n",
       "        vertical-align: middle;\n",
       "    }\n",
       "\n",
       "    .dataframe tbody tr th {\n",
       "        vertical-align: top;\n",
       "    }\n",
       "\n",
       "    .dataframe thead tr th {\n",
       "        text-align: left;\n",
       "    }\n",
       "</style>\n",
       "<table border=\"1\" class=\"dataframe\">\n",
       "  <thead>\n",
       "    <tr>\n",
       "      <th></th>\n",
       "      <th>Cash</th>\n",
       "      <th>Credit Card</th>\n",
       "      <th>Debit Card</th>\n",
       "      <th>Online</th>\n",
       "    </tr>\n",
       "  </thead>\n",
       "  <tbody>\n",
       "    <tr>\n",
       "      <th>0</th>\n",
       "      <td>0.0</td>\n",
       "      <td>0.0</td>\n",
       "      <td>0.0</td>\n",
       "      <td>1.0</td>\n",
       "    </tr>\n",
       "    <tr>\n",
       "      <th>1</th>\n",
       "      <td>0.0</td>\n",
       "      <td>1.0</td>\n",
       "      <td>0.0</td>\n",
       "      <td>0.0</td>\n",
       "    </tr>\n",
       "    <tr>\n",
       "      <th>2</th>\n",
       "      <td>0.0</td>\n",
       "      <td>0.0</td>\n",
       "      <td>0.0</td>\n",
       "      <td>1.0</td>\n",
       "    </tr>\n",
       "    <tr>\n",
       "      <th>3</th>\n",
       "      <td>1.0</td>\n",
       "      <td>0.0</td>\n",
       "      <td>0.0</td>\n",
       "      <td>0.0</td>\n",
       "    </tr>\n",
       "    <tr>\n",
       "      <th>4</th>\n",
       "      <td>0.0</td>\n",
       "      <td>0.0</td>\n",
       "      <td>0.0</td>\n",
       "      <td>1.0</td>\n",
       "    </tr>\n",
       "    <tr>\n",
       "      <th>...</th>\n",
       "      <td>...</td>\n",
       "      <td>...</td>\n",
       "      <td>...</td>\n",
       "      <td>...</td>\n",
       "    </tr>\n",
       "    <tr>\n",
       "      <th>995</th>\n",
       "      <td>0.0</td>\n",
       "      <td>1.0</td>\n",
       "      <td>0.0</td>\n",
       "      <td>0.0</td>\n",
       "    </tr>\n",
       "    <tr>\n",
       "      <th>996</th>\n",
       "      <td>0.0</td>\n",
       "      <td>1.0</td>\n",
       "      <td>0.0</td>\n",
       "      <td>0.0</td>\n",
       "    </tr>\n",
       "    <tr>\n",
       "      <th>997</th>\n",
       "      <td>0.0</td>\n",
       "      <td>1.0</td>\n",
       "      <td>0.0</td>\n",
       "      <td>0.0</td>\n",
       "    </tr>\n",
       "    <tr>\n",
       "      <th>998</th>\n",
       "      <td>0.0</td>\n",
       "      <td>0.0</td>\n",
       "      <td>0.0</td>\n",
       "      <td>1.0</td>\n",
       "    </tr>\n",
       "    <tr>\n",
       "      <th>999</th>\n",
       "      <td>0.0</td>\n",
       "      <td>1.0</td>\n",
       "      <td>0.0</td>\n",
       "      <td>0.0</td>\n",
       "    </tr>\n",
       "  </tbody>\n",
       "</table>\n",
       "<p>1000 rows × 4 columns</p>\n",
       "</div>"
      ],
      "text/plain": [
       "    Cash Credit Card Debit Card Online\n",
       "0    0.0         0.0        0.0    1.0\n",
       "1    0.0         1.0        0.0    0.0\n",
       "2    0.0         0.0        0.0    1.0\n",
       "3    1.0         0.0        0.0    0.0\n",
       "4    0.0         0.0        0.0    1.0\n",
       "..   ...         ...        ...    ...\n",
       "995  0.0         1.0        0.0    0.0\n",
       "996  0.0         1.0        0.0    0.0\n",
       "997  0.0         1.0        0.0    0.0\n",
       "998  0.0         0.0        0.0    1.0\n",
       "999  0.0         1.0        0.0    0.0\n",
       "\n",
       "[1000 rows x 4 columns]"
      ]
     },
     "execution_count": 160,
     "metadata": {},
     "output_type": "execute_result"
    }
   ],
   "source": [
    "PaymentMethod"
   ]
  },
  {
   "cell_type": "code",
   "execution_count": 161,
   "id": "925ffe59-3db0-4703-bc19-e8ba8d755fca",
   "metadata": {},
   "outputs": [
    {
     "data": {
      "text/plain": [
       "CustomerGender\n",
       "Female       339\n",
       "Other        338\n",
       "Male         317\n",
       "30860.655      6\n",
       "Name: count, dtype: int64"
      ]
     },
     "execution_count": 161,
     "metadata": {},
     "output_type": "execute_result"
    }
   ],
   "source": [
    "df['CustomerGender'].value_counts()"
   ]
  },
  {
   "cell_type": "code",
   "execution_count": 162,
   "id": "e239be79-30aa-4ccf-9da8-c79a4e83558c",
   "metadata": {},
   "outputs": [],
   "source": [
    "df[\"CustomerGender\"] = df[\"CustomerGender\"].astype(\"str\")"
   ]
  },
  {
   "cell_type": "code",
   "execution_count": 163,
   "id": "d3bcbdad-8db5-414b-84f9-332a391c577f",
   "metadata": {},
   "outputs": [
    {
     "data": {
      "text/html": [
       "<div>\n",
       "<style scoped>\n",
       "    .dataframe tbody tr th:only-of-type {\n",
       "        vertical-align: middle;\n",
       "    }\n",
       "\n",
       "    .dataframe tbody tr th {\n",
       "        vertical-align: top;\n",
       "    }\n",
       "\n",
       "    .dataframe thead tr th {\n",
       "        text-align: left;\n",
       "    }\n",
       "</style>\n",
       "<table border=\"1\" class=\"dataframe\">\n",
       "  <thead>\n",
       "    <tr>\n",
       "      <th></th>\n",
       "      <th>Female</th>\n",
       "      <th>Male</th>\n",
       "      <th>Other</th>\n",
       "    </tr>\n",
       "  </thead>\n",
       "  <tbody>\n",
       "    <tr>\n",
       "      <th>0</th>\n",
       "      <td>1.0</td>\n",
       "      <td>0.0</td>\n",
       "      <td>0.0</td>\n",
       "    </tr>\n",
       "    <tr>\n",
       "      <th>1</th>\n",
       "      <td>1.0</td>\n",
       "      <td>0.0</td>\n",
       "      <td>0.0</td>\n",
       "    </tr>\n",
       "    <tr>\n",
       "      <th>2</th>\n",
       "      <td>0.0</td>\n",
       "      <td>1.0</td>\n",
       "      <td>0.0</td>\n",
       "    </tr>\n",
       "    <tr>\n",
       "      <th>3</th>\n",
       "      <td>0.0</td>\n",
       "      <td>0.0</td>\n",
       "      <td>1.0</td>\n",
       "    </tr>\n",
       "    <tr>\n",
       "      <th>4</th>\n",
       "      <td>0.0</td>\n",
       "      <td>1.0</td>\n",
       "      <td>0.0</td>\n",
       "    </tr>\n",
       "    <tr>\n",
       "      <th>...</th>\n",
       "      <td>...</td>\n",
       "      <td>...</td>\n",
       "      <td>...</td>\n",
       "    </tr>\n",
       "    <tr>\n",
       "      <th>995</th>\n",
       "      <td>0.0</td>\n",
       "      <td>1.0</td>\n",
       "      <td>0.0</td>\n",
       "    </tr>\n",
       "    <tr>\n",
       "      <th>996</th>\n",
       "      <td>0.0</td>\n",
       "      <td>0.0</td>\n",
       "      <td>1.0</td>\n",
       "    </tr>\n",
       "    <tr>\n",
       "      <th>997</th>\n",
       "      <td>1.0</td>\n",
       "      <td>0.0</td>\n",
       "      <td>0.0</td>\n",
       "    </tr>\n",
       "    <tr>\n",
       "      <th>998</th>\n",
       "      <td>0.0</td>\n",
       "      <td>1.0</td>\n",
       "      <td>0.0</td>\n",
       "    </tr>\n",
       "    <tr>\n",
       "      <th>999</th>\n",
       "      <td>1.0</td>\n",
       "      <td>0.0</td>\n",
       "      <td>0.0</td>\n",
       "    </tr>\n",
       "  </tbody>\n",
       "</table>\n",
       "<p>1000 rows × 3 columns</p>\n",
       "</div>"
      ],
      "text/plain": [
       "    Female Male Other\n",
       "0      1.0  0.0   0.0\n",
       "1      1.0  0.0   0.0\n",
       "2      0.0  1.0   0.0\n",
       "3      0.0  0.0   1.0\n",
       "4      0.0  1.0   0.0\n",
       "..     ...  ...   ...\n",
       "995    0.0  1.0   0.0\n",
       "996    0.0  0.0   1.0\n",
       "997    1.0  0.0   0.0\n",
       "998    0.0  1.0   0.0\n",
       "999    1.0  0.0   0.0\n",
       "\n",
       "[1000 rows x 3 columns]"
      ]
     },
     "execution_count": 163,
     "metadata": {},
     "output_type": "execute_result"
    }
   ],
   "source": [
    "ohe= OneHotEncoder(sparse_output= False)\n",
    "CustomerGender= ohe.fit_transform(df[[\"CustomerGender\"]])\n",
    "CustomerGender= pd.DataFrame(CustomerGender,columns= ohe.categories_ )\n",
    "CustomerGender.drop('30860.655', axis= 1, inplace=True)\n",
    "CustomerGender"
   ]
  },
  {
   "cell_type": "code",
   "execution_count": 164,
   "id": "3169cf42-05df-424d-b162-707f4d18a159",
   "metadata": {},
   "outputs": [
    {
     "data": {
      "text/html": [
       "<div>\n",
       "<style scoped>\n",
       "    .dataframe tbody tr th:only-of-type {\n",
       "        vertical-align: middle;\n",
       "    }\n",
       "\n",
       "    .dataframe tbody tr th {\n",
       "        vertical-align: top;\n",
       "    }\n",
       "\n",
       "    .dataframe thead tr th {\n",
       "        text-align: left;\n",
       "    }\n",
       "</style>\n",
       "<table border=\"1\" class=\"dataframe\">\n",
       "  <thead>\n",
       "    <tr>\n",
       "      <th></th>\n",
       "      <th>Female</th>\n",
       "      <th>Male</th>\n",
       "      <th>Other</th>\n",
       "    </tr>\n",
       "  </thead>\n",
       "  <tbody>\n",
       "    <tr>\n",
       "      <th>0</th>\n",
       "      <td>1.0</td>\n",
       "      <td>0.0</td>\n",
       "      <td>0.0</td>\n",
       "    </tr>\n",
       "    <tr>\n",
       "      <th>1</th>\n",
       "      <td>1.0</td>\n",
       "      <td>0.0</td>\n",
       "      <td>0.0</td>\n",
       "    </tr>\n",
       "    <tr>\n",
       "      <th>2</th>\n",
       "      <td>0.0</td>\n",
       "      <td>1.0</td>\n",
       "      <td>0.0</td>\n",
       "    </tr>\n",
       "    <tr>\n",
       "      <th>3</th>\n",
       "      <td>0.0</td>\n",
       "      <td>0.0</td>\n",
       "      <td>1.0</td>\n",
       "    </tr>\n",
       "    <tr>\n",
       "      <th>4</th>\n",
       "      <td>0.0</td>\n",
       "      <td>1.0</td>\n",
       "      <td>0.0</td>\n",
       "    </tr>\n",
       "    <tr>\n",
       "      <th>...</th>\n",
       "      <td>...</td>\n",
       "      <td>...</td>\n",
       "      <td>...</td>\n",
       "    </tr>\n",
       "    <tr>\n",
       "      <th>995</th>\n",
       "      <td>0.0</td>\n",
       "      <td>1.0</td>\n",
       "      <td>0.0</td>\n",
       "    </tr>\n",
       "    <tr>\n",
       "      <th>996</th>\n",
       "      <td>0.0</td>\n",
       "      <td>0.0</td>\n",
       "      <td>1.0</td>\n",
       "    </tr>\n",
       "    <tr>\n",
       "      <th>997</th>\n",
       "      <td>1.0</td>\n",
       "      <td>0.0</td>\n",
       "      <td>0.0</td>\n",
       "    </tr>\n",
       "    <tr>\n",
       "      <th>998</th>\n",
       "      <td>0.0</td>\n",
       "      <td>1.0</td>\n",
       "      <td>0.0</td>\n",
       "    </tr>\n",
       "    <tr>\n",
       "      <th>999</th>\n",
       "      <td>1.0</td>\n",
       "      <td>0.0</td>\n",
       "      <td>0.0</td>\n",
       "    </tr>\n",
       "  </tbody>\n",
       "</table>\n",
       "<p>1000 rows × 3 columns</p>\n",
       "</div>"
      ],
      "text/plain": [
       "    Female Male Other\n",
       "0      1.0  0.0   0.0\n",
       "1      1.0  0.0   0.0\n",
       "2      0.0  1.0   0.0\n",
       "3      0.0  0.0   1.0\n",
       "4      0.0  1.0   0.0\n",
       "..     ...  ...   ...\n",
       "995    0.0  1.0   0.0\n",
       "996    0.0  0.0   1.0\n",
       "997    1.0  0.0   0.0\n",
       "998    0.0  1.0   0.0\n",
       "999    1.0  0.0   0.0\n",
       "\n",
       "[1000 rows x 3 columns]"
      ]
     },
     "execution_count": 164,
     "metadata": {},
     "output_type": "execute_result"
    }
   ],
   "source": [
    "CustomerGender"
   ]
  },
  {
   "cell_type": "code",
   "execution_count": 165,
   "id": "39e83fe9-360e-4abd-bdb5-f4d031780aeb",
   "metadata": {},
   "outputs": [],
   "source": [
    "df[\"Brand\"] = df[\"Brand\"].astype(\"str\")"
   ]
  },
  {
   "cell_type": "code",
   "execution_count": 166,
   "id": "9cf8dad2-ea34-4a76-bd37-dd1ddeff39c5",
   "metadata": {},
   "outputs": [
    {
     "data": {
      "text/plain": [
       "Brand\n",
       "30860.655                      6\n",
       "Martinez Ltd                   3\n",
       "Sanchez PLC                    3\n",
       "Ramos and Sons                 2\n",
       "Smith PLC                      2\n",
       "                              ..\n",
       "Ayers and Sons                 1\n",
       "Holland PLC                    1\n",
       "Hill, Thompson and Anderson    1\n",
       "Hunter-Richardson              1\n",
       "Kim, Maxwell and Moore         1\n",
       "Name: count, Length: 975, dtype: int64"
      ]
     },
     "execution_count": 166,
     "metadata": {},
     "output_type": "execute_result"
    }
   ],
   "source": [
    "df[\"Brand\"].value_counts()"
   ]
  },
  {
   "cell_type": "code",
   "execution_count": 167,
   "id": "1ad7d203-e1f9-45e1-97c5-a5f802f9f6a7",
   "metadata": {},
   "outputs": [
    {
     "data": {
      "text/html": [
       "<div>\n",
       "<style scoped>\n",
       "    .dataframe tbody tr th:only-of-type {\n",
       "        vertical-align: middle;\n",
       "    }\n",
       "\n",
       "    .dataframe tbody tr th {\n",
       "        vertical-align: top;\n",
       "    }\n",
       "\n",
       "    .dataframe thead tr th {\n",
       "        text-align: left;\n",
       "    }\n",
       "</style>\n",
       "<table border=\"1\" class=\"dataframe\">\n",
       "  <thead>\n",
       "    <tr>\n",
       "      <th></th>\n",
       "      <th>Adams Group</th>\n",
       "      <th>Adams LLC</th>\n",
       "      <th>Adams-Sanchez</th>\n",
       "      <th>Adkins, Robertson and Lindsey</th>\n",
       "      <th>Aguilar Group</th>\n",
       "      <th>Aguilar Ltd</th>\n",
       "      <th>Aguilar-Campos</th>\n",
       "      <th>Aguilar-Scott</th>\n",
       "      <th>Aguirre, Morris and Tran</th>\n",
       "      <th>Aguirre-Reed</th>\n",
       "      <th>...</th>\n",
       "      <th>Wright LLC</th>\n",
       "      <th>Wright and Sons</th>\n",
       "      <th>Wright-Green</th>\n",
       "      <th>Yang-Coleman</th>\n",
       "      <th>Yoder PLC</th>\n",
       "      <th>York Inc</th>\n",
       "      <th>Young Inc</th>\n",
       "      <th>Young, Hill and Morgan</th>\n",
       "      <th>Yu-Smith</th>\n",
       "      <th>Zhang, Bailey and Burnett</th>\n",
       "    </tr>\n",
       "  </thead>\n",
       "  <tbody>\n",
       "    <tr>\n",
       "      <th>0</th>\n",
       "      <td>0.0</td>\n",
       "      <td>0.0</td>\n",
       "      <td>0.0</td>\n",
       "      <td>0.0</td>\n",
       "      <td>0.0</td>\n",
       "      <td>0.0</td>\n",
       "      <td>0.0</td>\n",
       "      <td>0.0</td>\n",
       "      <td>0.0</td>\n",
       "      <td>0.0</td>\n",
       "      <td>...</td>\n",
       "      <td>0.0</td>\n",
       "      <td>0.0</td>\n",
       "      <td>0.0</td>\n",
       "      <td>0.0</td>\n",
       "      <td>0.0</td>\n",
       "      <td>0.0</td>\n",
       "      <td>0.0</td>\n",
       "      <td>0.0</td>\n",
       "      <td>0.0</td>\n",
       "      <td>0.0</td>\n",
       "    </tr>\n",
       "    <tr>\n",
       "      <th>1</th>\n",
       "      <td>0.0</td>\n",
       "      <td>0.0</td>\n",
       "      <td>0.0</td>\n",
       "      <td>0.0</td>\n",
       "      <td>0.0</td>\n",
       "      <td>0.0</td>\n",
       "      <td>0.0</td>\n",
       "      <td>0.0</td>\n",
       "      <td>0.0</td>\n",
       "      <td>0.0</td>\n",
       "      <td>...</td>\n",
       "      <td>0.0</td>\n",
       "      <td>0.0</td>\n",
       "      <td>0.0</td>\n",
       "      <td>0.0</td>\n",
       "      <td>0.0</td>\n",
       "      <td>0.0</td>\n",
       "      <td>0.0</td>\n",
       "      <td>0.0</td>\n",
       "      <td>0.0</td>\n",
       "      <td>0.0</td>\n",
       "    </tr>\n",
       "    <tr>\n",
       "      <th>2</th>\n",
       "      <td>0.0</td>\n",
       "      <td>0.0</td>\n",
       "      <td>0.0</td>\n",
       "      <td>0.0</td>\n",
       "      <td>0.0</td>\n",
       "      <td>0.0</td>\n",
       "      <td>0.0</td>\n",
       "      <td>0.0</td>\n",
       "      <td>0.0</td>\n",
       "      <td>0.0</td>\n",
       "      <td>...</td>\n",
       "      <td>0.0</td>\n",
       "      <td>0.0</td>\n",
       "      <td>0.0</td>\n",
       "      <td>0.0</td>\n",
       "      <td>0.0</td>\n",
       "      <td>0.0</td>\n",
       "      <td>0.0</td>\n",
       "      <td>0.0</td>\n",
       "      <td>0.0</td>\n",
       "      <td>0.0</td>\n",
       "    </tr>\n",
       "    <tr>\n",
       "      <th>3</th>\n",
       "      <td>0.0</td>\n",
       "      <td>0.0</td>\n",
       "      <td>0.0</td>\n",
       "      <td>0.0</td>\n",
       "      <td>0.0</td>\n",
       "      <td>0.0</td>\n",
       "      <td>0.0</td>\n",
       "      <td>0.0</td>\n",
       "      <td>0.0</td>\n",
       "      <td>0.0</td>\n",
       "      <td>...</td>\n",
       "      <td>0.0</td>\n",
       "      <td>0.0</td>\n",
       "      <td>0.0</td>\n",
       "      <td>0.0</td>\n",
       "      <td>0.0</td>\n",
       "      <td>0.0</td>\n",
       "      <td>0.0</td>\n",
       "      <td>0.0</td>\n",
       "      <td>0.0</td>\n",
       "      <td>0.0</td>\n",
       "    </tr>\n",
       "    <tr>\n",
       "      <th>4</th>\n",
       "      <td>0.0</td>\n",
       "      <td>0.0</td>\n",
       "      <td>0.0</td>\n",
       "      <td>0.0</td>\n",
       "      <td>0.0</td>\n",
       "      <td>0.0</td>\n",
       "      <td>0.0</td>\n",
       "      <td>0.0</td>\n",
       "      <td>0.0</td>\n",
       "      <td>0.0</td>\n",
       "      <td>...</td>\n",
       "      <td>0.0</td>\n",
       "      <td>0.0</td>\n",
       "      <td>0.0</td>\n",
       "      <td>0.0</td>\n",
       "      <td>0.0</td>\n",
       "      <td>0.0</td>\n",
       "      <td>0.0</td>\n",
       "      <td>0.0</td>\n",
       "      <td>0.0</td>\n",
       "      <td>0.0</td>\n",
       "    </tr>\n",
       "    <tr>\n",
       "      <th>...</th>\n",
       "      <td>...</td>\n",
       "      <td>...</td>\n",
       "      <td>...</td>\n",
       "      <td>...</td>\n",
       "      <td>...</td>\n",
       "      <td>...</td>\n",
       "      <td>...</td>\n",
       "      <td>...</td>\n",
       "      <td>...</td>\n",
       "      <td>...</td>\n",
       "      <td>...</td>\n",
       "      <td>...</td>\n",
       "      <td>...</td>\n",
       "      <td>...</td>\n",
       "      <td>...</td>\n",
       "      <td>...</td>\n",
       "      <td>...</td>\n",
       "      <td>...</td>\n",
       "      <td>...</td>\n",
       "      <td>...</td>\n",
       "      <td>...</td>\n",
       "    </tr>\n",
       "    <tr>\n",
       "      <th>995</th>\n",
       "      <td>0.0</td>\n",
       "      <td>0.0</td>\n",
       "      <td>0.0</td>\n",
       "      <td>0.0</td>\n",
       "      <td>0.0</td>\n",
       "      <td>0.0</td>\n",
       "      <td>0.0</td>\n",
       "      <td>0.0</td>\n",
       "      <td>0.0</td>\n",
       "      <td>0.0</td>\n",
       "      <td>...</td>\n",
       "      <td>0.0</td>\n",
       "      <td>0.0</td>\n",
       "      <td>0.0</td>\n",
       "      <td>0.0</td>\n",
       "      <td>0.0</td>\n",
       "      <td>0.0</td>\n",
       "      <td>0.0</td>\n",
       "      <td>0.0</td>\n",
       "      <td>0.0</td>\n",
       "      <td>0.0</td>\n",
       "    </tr>\n",
       "    <tr>\n",
       "      <th>996</th>\n",
       "      <td>0.0</td>\n",
       "      <td>0.0</td>\n",
       "      <td>0.0</td>\n",
       "      <td>0.0</td>\n",
       "      <td>0.0</td>\n",
       "      <td>0.0</td>\n",
       "      <td>0.0</td>\n",
       "      <td>0.0</td>\n",
       "      <td>0.0</td>\n",
       "      <td>0.0</td>\n",
       "      <td>...</td>\n",
       "      <td>0.0</td>\n",
       "      <td>0.0</td>\n",
       "      <td>0.0</td>\n",
       "      <td>0.0</td>\n",
       "      <td>0.0</td>\n",
       "      <td>0.0</td>\n",
       "      <td>0.0</td>\n",
       "      <td>0.0</td>\n",
       "      <td>0.0</td>\n",
       "      <td>0.0</td>\n",
       "    </tr>\n",
       "    <tr>\n",
       "      <th>997</th>\n",
       "      <td>0.0</td>\n",
       "      <td>0.0</td>\n",
       "      <td>0.0</td>\n",
       "      <td>0.0</td>\n",
       "      <td>0.0</td>\n",
       "      <td>0.0</td>\n",
       "      <td>0.0</td>\n",
       "      <td>0.0</td>\n",
       "      <td>0.0</td>\n",
       "      <td>0.0</td>\n",
       "      <td>...</td>\n",
       "      <td>0.0</td>\n",
       "      <td>0.0</td>\n",
       "      <td>0.0</td>\n",
       "      <td>0.0</td>\n",
       "      <td>0.0</td>\n",
       "      <td>0.0</td>\n",
       "      <td>0.0</td>\n",
       "      <td>0.0</td>\n",
       "      <td>0.0</td>\n",
       "      <td>0.0</td>\n",
       "    </tr>\n",
       "    <tr>\n",
       "      <th>998</th>\n",
       "      <td>0.0</td>\n",
       "      <td>0.0</td>\n",
       "      <td>0.0</td>\n",
       "      <td>0.0</td>\n",
       "      <td>0.0</td>\n",
       "      <td>0.0</td>\n",
       "      <td>0.0</td>\n",
       "      <td>0.0</td>\n",
       "      <td>0.0</td>\n",
       "      <td>0.0</td>\n",
       "      <td>...</td>\n",
       "      <td>0.0</td>\n",
       "      <td>0.0</td>\n",
       "      <td>0.0</td>\n",
       "      <td>0.0</td>\n",
       "      <td>0.0</td>\n",
       "      <td>0.0</td>\n",
       "      <td>0.0</td>\n",
       "      <td>0.0</td>\n",
       "      <td>0.0</td>\n",
       "      <td>0.0</td>\n",
       "    </tr>\n",
       "    <tr>\n",
       "      <th>999</th>\n",
       "      <td>0.0</td>\n",
       "      <td>0.0</td>\n",
       "      <td>0.0</td>\n",
       "      <td>0.0</td>\n",
       "      <td>0.0</td>\n",
       "      <td>0.0</td>\n",
       "      <td>0.0</td>\n",
       "      <td>0.0</td>\n",
       "      <td>0.0</td>\n",
       "      <td>0.0</td>\n",
       "      <td>...</td>\n",
       "      <td>0.0</td>\n",
       "      <td>0.0</td>\n",
       "      <td>0.0</td>\n",
       "      <td>0.0</td>\n",
       "      <td>0.0</td>\n",
       "      <td>0.0</td>\n",
       "      <td>0.0</td>\n",
       "      <td>0.0</td>\n",
       "      <td>0.0</td>\n",
       "      <td>0.0</td>\n",
       "    </tr>\n",
       "  </tbody>\n",
       "</table>\n",
       "<p>1000 rows × 974 columns</p>\n",
       "</div>"
      ],
      "text/plain": [
       "    Adams Group Adams LLC Adams-Sanchez Adkins, Robertson and Lindsey  \\\n",
       "0           0.0       0.0           0.0                           0.0   \n",
       "1           0.0       0.0           0.0                           0.0   \n",
       "2           0.0       0.0           0.0                           0.0   \n",
       "3           0.0       0.0           0.0                           0.0   \n",
       "4           0.0       0.0           0.0                           0.0   \n",
       "..          ...       ...           ...                           ...   \n",
       "995         0.0       0.0           0.0                           0.0   \n",
       "996         0.0       0.0           0.0                           0.0   \n",
       "997         0.0       0.0           0.0                           0.0   \n",
       "998         0.0       0.0           0.0                           0.0   \n",
       "999         0.0       0.0           0.0                           0.0   \n",
       "\n",
       "    Aguilar Group Aguilar Ltd Aguilar-Campos Aguilar-Scott  \\\n",
       "0             0.0         0.0            0.0           0.0   \n",
       "1             0.0         0.0            0.0           0.0   \n",
       "2             0.0         0.0            0.0           0.0   \n",
       "3             0.0         0.0            0.0           0.0   \n",
       "4             0.0         0.0            0.0           0.0   \n",
       "..            ...         ...            ...           ...   \n",
       "995           0.0         0.0            0.0           0.0   \n",
       "996           0.0         0.0            0.0           0.0   \n",
       "997           0.0         0.0            0.0           0.0   \n",
       "998           0.0         0.0            0.0           0.0   \n",
       "999           0.0         0.0            0.0           0.0   \n",
       "\n",
       "    Aguirre, Morris and Tran Aguirre-Reed  ... Wright LLC Wright and Sons  \\\n",
       "0                        0.0          0.0  ...        0.0             0.0   \n",
       "1                        0.0          0.0  ...        0.0             0.0   \n",
       "2                        0.0          0.0  ...        0.0             0.0   \n",
       "3                        0.0          0.0  ...        0.0             0.0   \n",
       "4                        0.0          0.0  ...        0.0             0.0   \n",
       "..                       ...          ...  ...        ...             ...   \n",
       "995                      0.0          0.0  ...        0.0             0.0   \n",
       "996                      0.0          0.0  ...        0.0             0.0   \n",
       "997                      0.0          0.0  ...        0.0             0.0   \n",
       "998                      0.0          0.0  ...        0.0             0.0   \n",
       "999                      0.0          0.0  ...        0.0             0.0   \n",
       "\n",
       "    Wright-Green Yang-Coleman Yoder PLC York Inc Young Inc  \\\n",
       "0            0.0          0.0       0.0      0.0       0.0   \n",
       "1            0.0          0.0       0.0      0.0       0.0   \n",
       "2            0.0          0.0       0.0      0.0       0.0   \n",
       "3            0.0          0.0       0.0      0.0       0.0   \n",
       "4            0.0          0.0       0.0      0.0       0.0   \n",
       "..           ...          ...       ...      ...       ...   \n",
       "995          0.0          0.0       0.0      0.0       0.0   \n",
       "996          0.0          0.0       0.0      0.0       0.0   \n",
       "997          0.0          0.0       0.0      0.0       0.0   \n",
       "998          0.0          0.0       0.0      0.0       0.0   \n",
       "999          0.0          0.0       0.0      0.0       0.0   \n",
       "\n",
       "    Young, Hill and Morgan Yu-Smith Zhang, Bailey and Burnett  \n",
       "0                      0.0      0.0                       0.0  \n",
       "1                      0.0      0.0                       0.0  \n",
       "2                      0.0      0.0                       0.0  \n",
       "3                      0.0      0.0                       0.0  \n",
       "4                      0.0      0.0                       0.0  \n",
       "..                     ...      ...                       ...  \n",
       "995                    0.0      0.0                       0.0  \n",
       "996                    0.0      0.0                       0.0  \n",
       "997                    0.0      0.0                       0.0  \n",
       "998                    0.0      0.0                       0.0  \n",
       "999                    0.0      0.0                       0.0  \n",
       "\n",
       "[1000 rows x 974 columns]"
      ]
     },
     "execution_count": 167,
     "metadata": {},
     "output_type": "execute_result"
    }
   ],
   "source": [
    "ohe= OneHotEncoder(sparse_output= False)\n",
    "Brand= ohe.fit_transform(df[[\"Brand\"]])\n",
    "Brand= pd.DataFrame(Brand,columns= ohe.categories_ )\n",
    "Brand.drop('30860.655', axis= 1, inplace=True)\n",
    "Brand"
   ]
  },
  {
   "cell_type": "code",
   "execution_count": 168,
   "id": "2dfeb482-1e74-46b0-a3f6-b97f487aee0d",
   "metadata": {},
   "outputs": [
    {
     "data": {
      "text/plain": [
       "['TransactionID',\n",
       " 'Date',\n",
       " 'MobileModel',\n",
       " 'Brand',\n",
       " 'CustomerGender',\n",
       " 'Location',\n",
       " 'PaymentMethod']"
      ]
     },
     "execution_count": 168,
     "metadata": {},
     "output_type": "execute_result"
    }
   ],
   "source": [
    "cat"
   ]
  },
  {
   "cell_type": "code",
   "execution_count": 169,
   "id": "09948da4-51dc-4cce-8b90-5a9ac2df6f59",
   "metadata": {},
   "outputs": [
    {
     "data": {
      "text/plain": [
       "['Price', 'UnitsSold', 'TotalRevenue', 'CustomerAge']"
      ]
     },
     "execution_count": 169,
     "metadata": {},
     "output_type": "execute_result"
    }
   ],
   "source": [
    "num"
   ]
  },
  {
   "cell_type": "code",
   "execution_count": 171,
   "id": "4eee3af0-5b31-4c6e-88ac-c5534d7513c4",
   "metadata": {},
   "outputs": [
    {
     "data": {
      "text/html": [
       "<div>\n",
       "<style scoped>\n",
       "    .dataframe tbody tr th:only-of-type {\n",
       "        vertical-align: middle;\n",
       "    }\n",
       "\n",
       "    .dataframe tbody tr th {\n",
       "        vertical-align: top;\n",
       "    }\n",
       "\n",
       "    .dataframe thead th {\n",
       "        text-align: right;\n",
       "    }\n",
       "</style>\n",
       "<table border=\"1\" class=\"dataframe\">\n",
       "  <thead>\n",
       "    <tr style=\"text-align: right;\">\n",
       "      <th></th>\n",
       "      <th>TransactionID</th>\n",
       "      <th>Date</th>\n",
       "      <th>MobileModel</th>\n",
       "      <th>Brand</th>\n",
       "      <th>Price</th>\n",
       "      <th>UnitsSold</th>\n",
       "      <th>TotalRevenue</th>\n",
       "      <th>CustomerAge</th>\n",
       "      <th>CustomerGender</th>\n",
       "      <th>Location</th>\n",
       "      <th>PaymentMethod</th>\n",
       "    </tr>\n",
       "  </thead>\n",
       "  <tbody>\n",
       "    <tr>\n",
       "      <th>0</th>\n",
       "      <td>79397f68-61ed-4ea8-bcb2-f918d4e6c05b</td>\n",
       "      <td>2024-01-06</td>\n",
       "      <td>direction</td>\n",
       "      <td>Green Inc</td>\n",
       "      <td>1196.95</td>\n",
       "      <td>85.0</td>\n",
       "      <td>28002.80</td>\n",
       "      <td>32.0</td>\n",
       "      <td>Female</td>\n",
       "      <td>Port Erik</td>\n",
       "      <td>Online</td>\n",
       "    </tr>\n",
       "    <tr>\n",
       "      <th>1</th>\n",
       "      <td>4f87d114-f522-4ead-93e3-f336402df6aa</td>\n",
       "      <td>2024-04-05</td>\n",
       "      <td>right</td>\n",
       "      <td>Thomas-Thompson</td>\n",
       "      <td>1010.34</td>\n",
       "      <td>64.0</td>\n",
       "      <td>2378.82</td>\n",
       "      <td>55.0</td>\n",
       "      <td>Female</td>\n",
       "      <td>East Linda</td>\n",
       "      <td>Credit Card</td>\n",
       "    </tr>\n",
       "    <tr>\n",
       "      <th>2</th>\n",
       "      <td>6750b7d6-dcc5-48c5-a76a-b6fc9d540fe1</td>\n",
       "      <td>2024-02-13</td>\n",
       "      <td>summer</td>\n",
       "      <td>Sanchez-Williams</td>\n",
       "      <td>400.80</td>\n",
       "      <td>95.0</td>\n",
       "      <td>31322.56</td>\n",
       "      <td>57.0</td>\n",
       "      <td>Male</td>\n",
       "      <td>East Angelicastad</td>\n",
       "      <td>Online</td>\n",
       "    </tr>\n",
       "    <tr>\n",
       "      <th>3</th>\n",
       "      <td>7da7de95-f772-4cc2-bce0-b0873f98233e</td>\n",
       "      <td>2024-04-17</td>\n",
       "      <td>keep</td>\n",
       "      <td>Greer and Sons</td>\n",
       "      <td>338.60</td>\n",
       "      <td>79.0</td>\n",
       "      <td>31159.75</td>\n",
       "      <td>46.0</td>\n",
       "      <td>Other</td>\n",
       "      <td>East Kevin</td>\n",
       "      <td>Cash</td>\n",
       "    </tr>\n",
       "    <tr>\n",
       "      <th>4</th>\n",
       "      <td>469044af-0d60-4d87-af66-c6603e844057</td>\n",
       "      <td>2024-06-02</td>\n",
       "      <td>option</td>\n",
       "      <td>Brown and Sons</td>\n",
       "      <td>839.79</td>\n",
       "      <td>41.0</td>\n",
       "      <td>11523.36</td>\n",
       "      <td>38.0</td>\n",
       "      <td>Male</td>\n",
       "      <td>New Lindaborough</td>\n",
       "      <td>Online</td>\n",
       "    </tr>\n",
       "  </tbody>\n",
       "</table>\n",
       "</div>"
      ],
      "text/plain": [
       "                          TransactionID        Date MobileModel  \\\n",
       "0  79397f68-61ed-4ea8-bcb2-f918d4e6c05b  2024-01-06   direction   \n",
       "1  4f87d114-f522-4ead-93e3-f336402df6aa  2024-04-05       right   \n",
       "2  6750b7d6-dcc5-48c5-a76a-b6fc9d540fe1  2024-02-13      summer   \n",
       "3  7da7de95-f772-4cc2-bce0-b0873f98233e  2024-04-17        keep   \n",
       "4  469044af-0d60-4d87-af66-c6603e844057  2024-06-02      option   \n",
       "\n",
       "              Brand    Price  UnitsSold  TotalRevenue  CustomerAge  \\\n",
       "0         Green Inc  1196.95       85.0      28002.80         32.0   \n",
       "1   Thomas-Thompson  1010.34       64.0       2378.82         55.0   \n",
       "2  Sanchez-Williams   400.80       95.0      31322.56         57.0   \n",
       "3    Greer and Sons   338.60       79.0      31159.75         46.0   \n",
       "4    Brown and Sons   839.79       41.0      11523.36         38.0   \n",
       "\n",
       "  CustomerGender           Location PaymentMethod  \n",
       "0         Female          Port Erik        Online  \n",
       "1         Female         East Linda   Credit Card  \n",
       "2           Male  East Angelicastad        Online  \n",
       "3          Other         East Kevin          Cash  \n",
       "4           Male   New Lindaborough        Online  "
      ]
     },
     "execution_count": 171,
     "metadata": {},
     "output_type": "execute_result"
    }
   ],
   "source": [
    "df.head()"
   ]
  },
  {
   "cell_type": "code",
   "execution_count": 172,
   "id": "20df8008-2710-4dc1-a76b-ca5f7cac1e56",
   "metadata": {},
   "outputs": [
    {
     "name": "stdout",
     "output_type": "stream",
     "text": [
      "<class 'pandas.core.frame.DataFrame'>\n",
      "RangeIndex: 1000 entries, 0 to 999\n",
      "Columns: 984 entries, Price to ('Zhang, Bailey and Burnett',)\n",
      "dtypes: float64(984)\n",
      "memory usage: 7.5 MB\n"
     ]
    }
   ],
   "source": [
    "X= df.drop(['TransactionID','Date','MobileModel','Brand','CustomerGender','Location','PaymentMethod','UnitsSold' ], axis= 1)\n",
    "X= pd.concat([X,CustomerGender, PaymentMethod ,Brand ], axis= 1)\n",
    "X.info()"
   ]
  },
  {
   "cell_type": "code",
   "execution_count": 173,
   "id": "e6d87e22-0a36-4d3a-a1f4-9b5ab4337a45",
   "metadata": {},
   "outputs": [
    {
     "data": {
      "text/plain": [
       "array([[1.196950e+03, 2.800280e+04, 3.200000e+01, ..., 0.000000e+00,\n",
       "        0.000000e+00, 0.000000e+00],\n",
       "       [1.010340e+03, 2.378820e+03, 5.500000e+01, ..., 0.000000e+00,\n",
       "        0.000000e+00, 0.000000e+00],\n",
       "       [4.008000e+02, 3.132256e+04, 5.700000e+01, ..., 0.000000e+00,\n",
       "        0.000000e+00, 0.000000e+00],\n",
       "       ...,\n",
       "       [5.443100e+02, 1.381820e+03, 2.600000e+01, ..., 0.000000e+00,\n",
       "        0.000000e+00, 0.000000e+00],\n",
       "       [3.319800e+02, 8.557320e+03, 2.000000e+01, ..., 0.000000e+00,\n",
       "        0.000000e+00, 0.000000e+00],\n",
       "       [9.739700e+02, 7.073976e+04, 4.400000e+01, ..., 0.000000e+00,\n",
       "        0.000000e+00, 0.000000e+00]])"
      ]
     },
     "execution_count": 173,
     "metadata": {},
     "output_type": "execute_result"
    }
   ],
   "source": [
    "X.values "
   ]
  },
  {
   "cell_type": "code",
   "execution_count": 174,
   "id": "a70b3ae6-1990-4b88-9ce9-e7e4e2b3b51e",
   "metadata": {},
   "outputs": [],
   "source": [
    "y=df['UnitsSold']"
   ]
  },
  {
   "cell_type": "code",
   "execution_count": 175,
   "id": "a9a98cc5-3673-49f8-9738-f9e159e8e727",
   "metadata": {},
   "outputs": [
    {
     "data": {
      "text/plain": [
       "array([8.5000000e+01, 6.4000000e+01, 9.5000000e+01, 7.9000000e+01,\n",
       "       4.1000000e+01, 7.0000000e+01, 6.3000000e+01, 7.9000000e+01,\n",
       "       5.8000000e+01, 9.2000000e+01, 2.2000000e+01, 2.1000000e+01,\n",
       "       4.9000000e+01, 4.5000000e+01, 7.6000000e+01, 1.0000000e+01,\n",
       "       9.7000000e+01, 2.2000000e+01, 6.5000000e+01, 1.1000000e+01,\n",
       "       6.0000000e+01, 5.4000000e+01, 7.1000000e+01, 5.4000000e+01,\n",
       "       5.6000000e+01, 2.2000000e+01, 7.9000000e+01, 4.0000000e+00,\n",
       "       8.7000000e+01, 5.1000000e+01, 4.3000000e+01, 8.5000000e+01,\n",
       "       4.0000000e+00, 1.1000000e+01, 1.9000000e+01, 9.8000000e+01,\n",
       "       5.8000000e+01, 3.5000000e+01, 6.2000000e+01, 1.9000000e+01,\n",
       "       3.8000000e+01, 8.9000000e+01, 6.7000000e+01, 6.0000000e+01,\n",
       "       6.8000000e+01, 7.1000000e+01, 5.9000000e+01, 5.9000000e+01,\n",
       "       5.8000000e+01, 6.0000000e+00, 1.4000000e+01, 6.6000000e+01,\n",
       "       3.4000000e+01, 6.1000000e+01, 7.8000000e+01, 2.6000000e+01,\n",
       "       5.2000000e+01, 8.9000000e+01, 2.0000000e+00, 3.3000000e+01,\n",
       "       2.5000000e+01, 9.5000000e+01, 1.5000000e+01, 5.8000000e+01,\n",
       "       7.9000000e+01, 7.7000000e+01, 2.6000000e+01, 2.6000000e+01,\n",
       "       1.5000000e+01, 5.2000000e+01, 1.9000000e+01, 2.3000000e+01,\n",
       "       7.1000000e+01, 2.2000000e+01, 6.3000000e+01, 8.9000000e+01,\n",
       "       3.0860655e+04, 9.3000000e+01, 3.9000000e+01, 3.3000000e+01,\n",
       "       7.5000000e+01, 9.9000000e+01, 3.0860655e+04, 9.4000000e+01,\n",
       "       3.0000000e+00, 7.8000000e+01, 1.7000000e+01, 9.3000000e+01,\n",
       "       8.1000000e+01, 1.0000000e+00, 2.8000000e+01, 4.6000000e+01,\n",
       "       2.0000000e+01, 3.2000000e+01, 3.3000000e+01, 1.6000000e+01,\n",
       "       7.0000000e+01, 6.6000000e+01, 5.6000000e+01, 2.5000000e+01,\n",
       "       4.9000000e+01, 5.0000000e+01, 5.4000000e+01, 6.2000000e+01,\n",
       "       7.6000000e+01, 1.9000000e+01, 1.5000000e+01, 9.6000000e+01,\n",
       "       3.3000000e+01, 2.5000000e+01, 4.3000000e+01, 4.0000000e+01,\n",
       "       1.4000000e+01, 7.1000000e+01, 9.0000000e+00, 2.8000000e+01,\n",
       "       4.7000000e+01, 9.3000000e+01, 4.5000000e+01, 3.5000000e+01,\n",
       "       5.9000000e+01, 4.9000000e+01, 1.3000000e+01, 9.0000000e+00,\n",
       "       2.9000000e+01, 5.0000000e+00, 5.1000000e+01, 8.9000000e+01,\n",
       "       6.2000000e+01, 2.1000000e+01, 2.0000000e+00, 6.6000000e+01,\n",
       "       4.9000000e+01, 5.2000000e+01, 1.9000000e+01, 5.0000000e+01,\n",
       "       3.1000000e+01, 5.2000000e+01, 8.7000000e+01, 2.0000000e+01,\n",
       "       6.1000000e+01, 3.1000000e+01, 8.3000000e+01, 3.1000000e+01,\n",
       "       2.9000000e+01, 6.6000000e+01, 3.4000000e+01, 4.9000000e+01,\n",
       "       4.2000000e+01, 9.0000000e+01, 7.3000000e+01, 2.6000000e+01,\n",
       "       1.0000000e+00, 9.6000000e+01, 7.0000000e+00, 9.5000000e+01,\n",
       "       6.0000000e+00, 5.0000000e+00, 4.9000000e+01, 7.7000000e+01,\n",
       "       2.1000000e+01, 3.7000000e+01, 1.8000000e+01, 3.7000000e+01,\n",
       "       6.2000000e+01, 2.7000000e+01, 6.2000000e+01, 8.0000000e+01,\n",
       "       8.4000000e+01, 6.7000000e+01, 8.1000000e+01, 4.0000000e+01,\n",
       "       8.5000000e+01, 8.0000000e+01, 3.0000000e+00, 8.0000000e+00,\n",
       "       9.0000000e+01, 8.1000000e+01, 8.0000000e+00, 5.3000000e+01,\n",
       "       9.0000000e+00, 6.8000000e+01, 7.2000000e+01, 9.5000000e+01,\n",
       "       8.9000000e+01, 1.7000000e+01, 6.4000000e+01, 3.9000000e+01,\n",
       "       6.0000000e+01, 3.2000000e+01, 7.4000000e+01, 6.6000000e+01,\n",
       "       6.7000000e+01, 6.0000000e+00, 5.5000000e+01, 2.6000000e+01,\n",
       "       4.0000000e+01, 8.2000000e+01, 7.0000000e+01, 3.6000000e+01,\n",
       "       7.9000000e+01, 7.8000000e+01, 3.0860655e+04, 8.3000000e+01,\n",
       "       2.9000000e+01, 3.2000000e+01, 8.3000000e+01, 5.1000000e+01,\n",
       "       2.5000000e+01, 3.6000000e+01, 4.9000000e+01, 5.3000000e+01,\n",
       "       1.5000000e+01, 9.0000000e+01, 6.8000000e+01, 1.0000000e+00,\n",
       "       1.1000000e+01, 7.8000000e+01, 7.4000000e+01, 5.0000000e+01,\n",
       "       7.0000000e+00, 3.1000000e+01, 7.5000000e+01, 9.3000000e+01,\n",
       "       5.8000000e+01, 8.4000000e+01, 9.1000000e+01, 3.3000000e+01,\n",
       "       3.4000000e+01, 2.4000000e+01, 8.9000000e+01, 1.4000000e+01,\n",
       "       9.2000000e+01, 3.9000000e+01, 7.3000000e+01, 4.3000000e+01,\n",
       "       5.7000000e+01, 2.1000000e+01, 6.1000000e+01, 6.8000000e+01,\n",
       "       6.8000000e+01, 7.6000000e+01, 9.3000000e+01, 3.6000000e+01,\n",
       "       3.4000000e+01, 2.5000000e+01, 8.0000000e+01, 7.0000000e+00,\n",
       "       3.0000000e+00, 4.6000000e+01, 1.3000000e+01, 8.6000000e+01,\n",
       "       2.4000000e+01, 7.6000000e+01, 5.0000000e+00, 9.4000000e+01,\n",
       "       9.9000000e+01, 7.2000000e+01, 6.3000000e+01, 1.0000000e+01,\n",
       "       9.0000000e+01, 4.8000000e+01, 7.5000000e+01, 2.1000000e+01,\n",
       "       2.0000000e+00, 1.9000000e+01, 1.3000000e+01, 8.4000000e+01,\n",
       "       8.3000000e+01, 8.5000000e+01, 9.8000000e+01, 7.7000000e+01,\n",
       "       6.0000000e+01, 2.0000000e+01, 8.2000000e+01, 8.1000000e+01,\n",
       "       1.6000000e+01, 3.4000000e+01, 8.4000000e+01, 5.9000000e+01,\n",
       "       5.7000000e+01, 3.6000000e+01, 2.0000000e+00, 3.0860655e+04,\n",
       "       6.3000000e+01, 7.5000000e+01, 9.0000000e+01, 1.2000000e+01,\n",
       "       5.0000000e+01, 6.2000000e+01, 9.9000000e+01, 8.0000000e+00,\n",
       "       7.1000000e+01, 1.9000000e+01, 1.0000000e+01, 4.9000000e+01,\n",
       "       9.6000000e+01, 8.4000000e+01, 1.9000000e+01, 6.1000000e+01,\n",
       "       4.1000000e+01, 1.6000000e+01, 1.3000000e+01, 5.3000000e+01,\n",
       "       1.7000000e+01, 9.1000000e+01, 4.0000000e+01, 8.8000000e+01,\n",
       "       5.0000000e+01, 3.6000000e+01, 1.0000000e+01, 6.5000000e+01,\n",
       "       2.8000000e+01, 5.5000000e+01, 9.2000000e+01, 2.5000000e+01,\n",
       "       9.4000000e+01, 4.7000000e+01, 5.9000000e+01, 5.0000000e+00,\n",
       "       4.0000000e+00, 7.9000000e+01, 5.7000000e+01, 4.6000000e+01,\n",
       "       2.5000000e+01, 3.4000000e+01, 4.9000000e+01, 9.0000000e+00,\n",
       "       5.8000000e+01, 5.3000000e+01, 4.0000000e+00, 6.4000000e+01,\n",
       "       2.4000000e+01, 1.6000000e+01, 2.4000000e+01, 6.6000000e+01,\n",
       "       3.9000000e+01, 6.9000000e+01, 2.9000000e+01, 9.0000000e+00,\n",
       "       3.9000000e+01, 6.5000000e+01, 1.8000000e+01, 4.7000000e+01,\n",
       "       1.7000000e+01, 6.4000000e+01, 4.2000000e+01, 8.5000000e+01,\n",
       "       4.1000000e+01, 2.0000000e+01, 6.8000000e+01, 5.6000000e+01,\n",
       "       2.4000000e+01, 3.6000000e+01, 7.9000000e+01, 6.8000000e+01,\n",
       "       5.6000000e+01, 7.2000000e+01, 7.4000000e+01, 2.5000000e+01,\n",
       "       8.9000000e+01, 7.1000000e+01, 7.9000000e+01, 1.5000000e+01,\n",
       "       8.9000000e+01, 4.7000000e+01, 2.3000000e+01, 2.9000000e+01,\n",
       "       5.1000000e+01, 7.2000000e+01, 4.4000000e+01, 9.1000000e+01,\n",
       "       2.0000000e+00, 4.0000000e+01, 6.8000000e+01, 8.0000000e+01,\n",
       "       1.9000000e+01, 1.8000000e+01, 7.0000000e+00, 3.9000000e+01,\n",
       "       1.8000000e+01, 1.0000000e+01, 7.7000000e+01, 7.8000000e+01,\n",
       "       8.4000000e+01, 2.8000000e+01, 1.5000000e+01, 3.1000000e+01,\n",
       "       8.3000000e+01, 4.0000000e+01, 6.0000000e+01, 8.2000000e+01,\n",
       "       5.4000000e+01, 4.3000000e+01, 9.7000000e+01, 4.1000000e+01,\n",
       "       2.0000000e+01, 8.0000000e+00, 5.9000000e+01, 6.7000000e+01,\n",
       "       4.2000000e+01, 8.5000000e+01, 8.2000000e+01, 2.9000000e+01,\n",
       "       6.0000000e+01, 7.0000000e+00, 3.3000000e+01, 2.0000000e+01,\n",
       "       3.7000000e+01, 6.4000000e+01, 3.0000000e+01, 6.3000000e+01,\n",
       "       2.8000000e+01, 5.5000000e+01, 9.2000000e+01, 5.4000000e+01,\n",
       "       1.9000000e+01, 9.5000000e+01, 1.3000000e+01, 3.3000000e+01,\n",
       "       6.0000000e+00, 7.5000000e+01, 8.0000000e+00, 5.9000000e+01,\n",
       "       6.5000000e+01, 6.6000000e+01, 3.0000000e+01, 9.1000000e+01,\n",
       "       4.0000000e+01, 5.0000000e+00, 2.0000000e+01, 9.5000000e+01,\n",
       "       8.9000000e+01, 4.6000000e+01, 1.2000000e+01, 9.1000000e+01,\n",
       "       3.0000000e+00, 8.2000000e+01, 7.0000000e+01, 5.6000000e+01,\n",
       "       4.9000000e+01, 8.5000000e+01, 2.6000000e+01, 2.6000000e+01,\n",
       "       8.6000000e+01, 6.7000000e+01, 3.1000000e+01, 6.7000000e+01,\n",
       "       7.5000000e+01, 8.5000000e+01, 7.2000000e+01, 4.3000000e+01,\n",
       "       8.0000000e+01, 8.8000000e+01, 9.1000000e+01, 6.5000000e+01,\n",
       "       8.1000000e+01, 3.0000000e+01, 1.5000000e+01, 4.6000000e+01,\n",
       "       5.5000000e+01, 8.1000000e+01, 4.0000000e+00, 5.1000000e+01,\n",
       "       4.3000000e+01, 8.5000000e+01, 6.8000000e+01, 9.9000000e+01,\n",
       "       6.8000000e+01, 1.9000000e+01, 7.0000000e+01, 7.0000000e+00,\n",
       "       5.0000000e+00, 9.5000000e+01, 5.9000000e+01, 2.0000000e+00,\n",
       "       4.0000000e+00, 3.4000000e+01, 9.9000000e+01, 6.0000000e+01,\n",
       "       4.2000000e+01, 4.4000000e+01, 8.3000000e+01, 8.2000000e+01,\n",
       "       9.5000000e+01, 5.4000000e+01, 9.5000000e+01, 8.7000000e+01,\n",
       "       3.4000000e+01, 8.1000000e+01, 1.4000000e+01, 1.8000000e+01,\n",
       "       1.0000000e+00, 5.4000000e+01, 6.9000000e+01, 6.5000000e+01,\n",
       "       5.1000000e+01, 3.6000000e+01, 3.8000000e+01, 7.4000000e+01,\n",
       "       8.9000000e+01, 7.6000000e+01, 7.5000000e+01, 6.0000000e+01,\n",
       "       1.3000000e+01, 2.5000000e+01, 5.4000000e+01, 9.0000000e+01,\n",
       "       3.0000000e+00, 9.8000000e+01, 9.8000000e+01, 4.7000000e+01,\n",
       "       9.1000000e+01, 7.9000000e+01, 1.2000000e+01, 7.3000000e+01,\n",
       "       9.5000000e+01, 4.0000000e+01, 3.8000000e+01, 8.0000000e+00,\n",
       "       4.4000000e+01, 3.9000000e+01, 3.1000000e+01, 8.5000000e+01,\n",
       "       4.1000000e+01, 7.5000000e+01, 8.0000000e+00, 5.6000000e+01,\n",
       "       4.7000000e+01, 8.9000000e+01, 2.0000000e+01, 2.8000000e+01,\n",
       "       4.2000000e+01, 8.4000000e+01, 1.0000000e+01, 7.2000000e+01,\n",
       "       1.7000000e+01, 8.8000000e+01, 7.6000000e+01, 4.0000000e+01,\n",
       "       7.0000000e+01, 5.7000000e+01, 5.5000000e+01, 8.0000000e+00,\n",
       "       4.8000000e+01, 6.4000000e+01, 5.4000000e+01, 3.8000000e+01,\n",
       "       6.6000000e+01, 9.8000000e+01, 5.6000000e+01, 6.0000000e+01,\n",
       "       5.7000000e+01, 2.7000000e+01, 8.6000000e+01, 2.1000000e+01,\n",
       "       8.7000000e+01, 4.9000000e+01, 3.6000000e+01, 4.2000000e+01,\n",
       "       9.7000000e+01, 3.0000000e+01, 3.9000000e+01, 7.2000000e+01,\n",
       "       5.2000000e+01, 7.9000000e+01, 6.0000000e+01, 6.9000000e+01,\n",
       "       4.0000000e+01, 3.6000000e+01, 2.1000000e+01, 2.1000000e+01,\n",
       "       6.8000000e+01, 9.5000000e+01, 9.5000000e+01, 4.3000000e+01,\n",
       "       8.8000000e+01, 4.4000000e+01, 3.1000000e+01, 3.4000000e+01,\n",
       "       7.6000000e+01, 5.4000000e+01, 9.5000000e+01, 8.1000000e+01,\n",
       "       6.7000000e+01, 6.6000000e+01, 7.2000000e+01, 7.5000000e+01,\n",
       "       6.8000000e+01, 4.9000000e+01, 9.3000000e+01, 5.3000000e+01,\n",
       "       4.6000000e+01, 3.1000000e+01, 2.3000000e+01, 8.5000000e+01,\n",
       "       8.6000000e+01, 2.0000000e+00, 4.0000000e+01, 8.0000000e+01,\n",
       "       6.9000000e+01, 7.0000000e+00, 2.1000000e+01, 2.5000000e+01,\n",
       "       2.4000000e+01, 7.7000000e+01, 6.6000000e+01, 9.9000000e+01,\n",
       "       6.2000000e+01, 8.0000000e+01, 4.9000000e+01, 9.4000000e+01,\n",
       "       8.0000000e+01, 9.4000000e+01, 4.2000000e+01, 1.2000000e+01,\n",
       "       5.2000000e+01, 1.9000000e+01, 4.9000000e+01, 2.3000000e+01,\n",
       "       4.0000000e+00, 9.0000000e+01, 3.2000000e+01, 2.0000000e+01,\n",
       "       5.2000000e+01, 8.5000000e+01, 2.1000000e+01, 7.1000000e+01,\n",
       "       3.0000000e+01, 8.0000000e+00, 3.3000000e+01, 7.1000000e+01,\n",
       "       3.6000000e+01, 7.1000000e+01, 8.3000000e+01, 2.9000000e+01,\n",
       "       1.7000000e+01, 4.2000000e+01, 7.7000000e+01, 5.4000000e+01,\n",
       "       1.3000000e+01, 6.2000000e+01, 9.6000000e+01, 1.2000000e+01,\n",
       "       2.0000000e+01, 9.4000000e+01, 4.0000000e+00, 4.9000000e+01,\n",
       "       2.1000000e+01, 7.0000000e+01, 1.4000000e+01, 6.0000000e+00,\n",
       "       6.9000000e+01, 7.0000000e+01, 1.3000000e+01, 7.6000000e+01,\n",
       "       4.7000000e+01, 6.6000000e+01, 1.7000000e+01, 4.0000000e+00,\n",
       "       2.4000000e+01, 6.0000000e+01, 9.3000000e+01, 2.1000000e+01,\n",
       "       3.7000000e+01, 8.0000000e+00, 1.6000000e+01, 8.9000000e+01,\n",
       "       3.8000000e+01, 5.8000000e+01, 4.1000000e+01, 8.3000000e+01,\n",
       "       3.3000000e+01, 2.5000000e+01, 9.4000000e+01, 9.2000000e+01,\n",
       "       6.0000000e+00, 9.5000000e+01, 3.0860655e+04, 6.3000000e+01,\n",
       "       2.5000000e+01, 7.9000000e+01, 2.3000000e+01, 9.7000000e+01,\n",
       "       1.8000000e+01, 7.0000000e+00, 8.0000000e+01, 9.7000000e+01,\n",
       "       1.0000000e+01, 8.5000000e+01, 5.3000000e+01, 3.0000000e+00,\n",
       "       2.7000000e+01, 8.1000000e+01, 8.5000000e+01, 9.0000000e+01,\n",
       "       5.9000000e+01, 8.4000000e+01, 2.4000000e+01, 5.5000000e+01,\n",
       "       7.2000000e+01, 2.4000000e+01, 8.5000000e+01, 2.7000000e+01,\n",
       "       7.5000000e+01, 3.3000000e+01, 2.7000000e+01, 6.7000000e+01,\n",
       "       1.6000000e+01, 3.6000000e+01, 5.1000000e+01, 6.2000000e+01,\n",
       "       3.2000000e+01, 1.3000000e+01, 4.9000000e+01, 8.2000000e+01,\n",
       "       2.9000000e+01, 7.2000000e+01, 7.8000000e+01, 9.3000000e+01,\n",
       "       9.4000000e+01, 3.7000000e+01, 4.6000000e+01, 9.8000000e+01,\n",
       "       2.8000000e+01, 9.7000000e+01, 6.7000000e+01, 1.6000000e+01,\n",
       "       8.8000000e+01, 5.8000000e+01, 1.0000000e+01, 5.3000000e+01,\n",
       "       9.8000000e+01, 3.9000000e+01, 3.0000000e+00, 8.5000000e+01,\n",
       "       4.2000000e+01, 5.8000000e+01, 4.2000000e+01, 7.9000000e+01,\n",
       "       4.8000000e+01, 8.4000000e+01, 9.4000000e+01, 3.5000000e+01,\n",
       "       2.7000000e+01, 2.0000000e+00, 8.0000000e+00, 8.9000000e+01,\n",
       "       2.0000000e+01, 9.1000000e+01, 6.6000000e+01, 9.5000000e+01,\n",
       "       2.0000000e+00, 8.0000000e+00, 5.1000000e+01, 7.0000000e+00,\n",
       "       5.4000000e+01, 4.1000000e+01, 7.5000000e+01, 6.2000000e+01,\n",
       "       5.2000000e+01, 3.6000000e+01, 5.5000000e+01, 1.2000000e+01,\n",
       "       8.0000000e+00, 7.6000000e+01, 9.6000000e+01, 3.0000000e+00,\n",
       "       8.6000000e+01, 9.6000000e+01, 4.8000000e+01, 3.7000000e+01,\n",
       "       4.8000000e+01, 6.8000000e+01, 3.6000000e+01, 9.9000000e+01,\n",
       "       6.8000000e+01, 2.1000000e+01, 3.4000000e+01, 7.6000000e+01,\n",
       "       6.5000000e+01, 9.4000000e+01, 3.9000000e+01, 2.4000000e+01,\n",
       "       8.8000000e+01, 4.2000000e+01, 3.4000000e+01, 5.6000000e+01,\n",
       "       5.1000000e+01, 7.0000000e+00, 3.0000000e+00, 8.3000000e+01,\n",
       "       2.8000000e+01, 1.3000000e+01, 5.6000000e+01, 4.3000000e+01,\n",
       "       5.2000000e+01, 2.8000000e+01, 3.0860655e+04, 5.9000000e+01,\n",
       "       7.0000000e+00, 1.6000000e+01, 7.0000000e+00, 6.4000000e+01,\n",
       "       6.1000000e+01, 6.0000000e+00, 3.6000000e+01, 1.0000000e+00,\n",
       "       6.0000000e+01, 8.8000000e+01, 1.4000000e+01, 6.7000000e+01,\n",
       "       7.6000000e+01, 9.3000000e+01, 6.6000000e+01, 8.0000000e+01,\n",
       "       7.9000000e+01, 9.0000000e+01, 1.7000000e+01, 9.0000000e+00,\n",
       "       9.6000000e+01, 9.6000000e+01, 3.8000000e+01, 6.7000000e+01,\n",
       "       4.4000000e+01, 3.5000000e+01, 2.6000000e+01, 1.9000000e+01,\n",
       "       6.5000000e+01, 1.7000000e+01, 5.2000000e+01, 8.1000000e+01,\n",
       "       4.5000000e+01, 7.0000000e+00, 9.1000000e+01, 1.3000000e+01,\n",
       "       9.7000000e+01, 7.3000000e+01, 2.2000000e+01, 2.1000000e+01,\n",
       "       1.4000000e+01, 1.7000000e+01, 5.2000000e+01, 1.7000000e+01,\n",
       "       1.6000000e+01, 5.6000000e+01, 4.3000000e+01, 3.6000000e+01,\n",
       "       2.7000000e+01, 7.3000000e+01, 2.5000000e+01, 1.3000000e+01,\n",
       "       7.8000000e+01, 6.5000000e+01, 2.0000000e+00, 6.9000000e+01,\n",
       "       3.7000000e+01, 8.0000000e+00, 3.0000000e+00, 6.4000000e+01,\n",
       "       7.3000000e+01, 4.0000000e+00, 7.3000000e+01, 6.7000000e+01,\n",
       "       3.6000000e+01, 7.1000000e+01, 7.2000000e+01, 1.5000000e+01,\n",
       "       5.4000000e+01, 8.8000000e+01, 6.6000000e+01, 9.0000000e+01,\n",
       "       1.8000000e+01, 6.4000000e+01, 9.5000000e+01, 6.6000000e+01,\n",
       "       8.6000000e+01, 1.3000000e+01, 2.5000000e+01, 9.1000000e+01,\n",
       "       4.0000000e+01, 6.1000000e+01, 2.3000000e+01, 4.9000000e+01,\n",
       "       7.1000000e+01, 3.4000000e+01, 2.8000000e+01, 9.5000000e+01,\n",
       "       3.0000000e+00, 4.0000000e+00, 5.9000000e+01, 9.7000000e+01,\n",
       "       2.1000000e+01, 4.5000000e+01, 7.2000000e+01, 3.5000000e+01,\n",
       "       9.0000000e+00, 5.1000000e+01, 1.0000000e+00, 8.4000000e+01,\n",
       "       5.1000000e+01, 6.0000000e+00, 9.9000000e+01, 9.2000000e+01,\n",
       "       1.1000000e+01, 2.9000000e+01, 1.1000000e+01, 2.5000000e+01,\n",
       "       2.0000000e+01, 1.9000000e+01, 1.8000000e+01, 2.8000000e+01,\n",
       "       8.1000000e+01, 1.7000000e+01, 8.9000000e+01, 3.0000000e+01,\n",
       "       2.0000000e+00, 3.2000000e+01, 5.9000000e+01, 2.4000000e+01,\n",
       "       3.8000000e+01, 6.3000000e+01, 5.4000000e+01, 7.4000000e+01,\n",
       "       7.7000000e+01, 5.4000000e+01, 7.9000000e+01, 2.0000000e+00,\n",
       "       2.0000000e+01, 6.5000000e+01, 8.5000000e+01, 3.0000000e+00,\n",
       "       8.3000000e+01, 5.7000000e+01, 5.0000000e+01, 8.4000000e+01,\n",
       "       8.3000000e+01, 6.4000000e+01, 9.2000000e+01, 6.9000000e+01,\n",
       "       6.1000000e+01, 3.1000000e+01, 6.9000000e+01, 4.4000000e+01,\n",
       "       3.4000000e+01, 4.7000000e+01, 1.2000000e+01, 3.9000000e+01,\n",
       "       4.0000000e+00, 3.5000000e+01, 5.1000000e+01, 4.6000000e+01,\n",
       "       7.5000000e+01, 5.7000000e+01, 3.5000000e+01, 4.3000000e+01,\n",
       "       2.0000000e+01, 9.5000000e+01, 7.2000000e+01, 6.7000000e+01,\n",
       "       8.0000000e+00, 5.5000000e+01, 6.4000000e+01, 4.4000000e+01,\n",
       "       6.0000000e+00, 3.5000000e+01, 9.9000000e+01, 4.5000000e+01,\n",
       "       2.6000000e+01, 3.9000000e+01, 7.5000000e+01, 2.5000000e+01,\n",
       "       9.0000000e+00, 7.3000000e+01, 5.7000000e+01, 3.2000000e+01,\n",
       "       5.3000000e+01, 3.9000000e+01, 8.8000000e+01, 4.4000000e+01,\n",
       "       4.0000000e+00, 6.0000000e+00, 3.7000000e+01, 1.3000000e+01,\n",
       "       7.0000000e+01, 9.0000000e+00, 5.0000000e+00, 6.0000000e+01,\n",
       "       1.4000000e+01, 9.6000000e+01, 6.6000000e+01, 2.4000000e+01,\n",
       "       7.9000000e+01, 2.7000000e+01, 1.0000000e+00, 7.6000000e+01,\n",
       "       5.9000000e+01, 5.9000000e+01, 8.4000000e+01, 7.9000000e+01])"
      ]
     },
     "execution_count": 175,
     "metadata": {},
     "output_type": "execute_result"
    }
   ],
   "source": [
    "y.values"
   ]
  },
  {
   "cell_type": "code",
   "execution_count": 176,
   "id": "765f4bb1-7096-4333-bb66-afe8b78d8b98",
   "metadata": {},
   "outputs": [],
   "source": [
    "from sklearn.model_selection import train_test_split"
   ]
  },
  {
   "cell_type": "code",
   "execution_count": 178,
   "id": "ae3eade6-337d-4aa1-81da-be36cb0e74a1",
   "metadata": {},
   "outputs": [],
   "source": [
    "X_train, X_test, y_train, y_test= train_test_split(X,y, test_size= 0.3, random_state=50 )"
   ]
  },
  {
   "cell_type": "code",
   "execution_count": 181,
   "id": "deed3df3-e267-4566-ac9a-99fdaefa724c",
   "metadata": {},
   "outputs": [
    {
     "data": {
      "text/plain": [
       "(700, 984)"
      ]
     },
     "execution_count": 181,
     "metadata": {},
     "output_type": "execute_result"
    }
   ],
   "source": [
    "X_train.shape"
   ]
  },
  {
   "cell_type": "code",
   "execution_count": 182,
   "id": "09741b15-bb08-42fb-a897-fe3f6df55eab",
   "metadata": {},
   "outputs": [
    {
     "data": {
      "text/plain": [
       "(700,)"
      ]
     },
     "execution_count": 182,
     "metadata": {},
     "output_type": "execute_result"
    }
   ],
   "source": [
    "y_train.shape"
   ]
  },
  {
   "cell_type": "code",
   "execution_count": 184,
   "id": "aeead97a-9cce-49dc-a807-facd0e0d1771",
   "metadata": {},
   "outputs": [],
   "source": [
    "X_train.columns = X_train.columns.astype(str)\n"
   ]
  },
  {
   "cell_type": "code",
   "execution_count": 185,
   "id": "338d0e28-2ed4-41a4-9d03-39a3f0275504",
   "metadata": {},
   "outputs": [
    {
     "data": {
      "text/html": [
       "<style>#sk-container-id-1 {color: black;background-color: white;}#sk-container-id-1 pre{padding: 0;}#sk-container-id-1 div.sk-toggleable {background-color: white;}#sk-container-id-1 label.sk-toggleable__label {cursor: pointer;display: block;width: 100%;margin-bottom: 0;padding: 0.3em;box-sizing: border-box;text-align: center;}#sk-container-id-1 label.sk-toggleable__label-arrow:before {content: \"▸\";float: left;margin-right: 0.25em;color: #696969;}#sk-container-id-1 label.sk-toggleable__label-arrow:hover:before {color: black;}#sk-container-id-1 div.sk-estimator:hover label.sk-toggleable__label-arrow:before {color: black;}#sk-container-id-1 div.sk-toggleable__content {max-height: 0;max-width: 0;overflow: hidden;text-align: left;background-color: #f0f8ff;}#sk-container-id-1 div.sk-toggleable__content pre {margin: 0.2em;color: black;border-radius: 0.25em;background-color: #f0f8ff;}#sk-container-id-1 input.sk-toggleable__control:checked~div.sk-toggleable__content {max-height: 200px;max-width: 100%;overflow: auto;}#sk-container-id-1 input.sk-toggleable__control:checked~label.sk-toggleable__label-arrow:before {content: \"▾\";}#sk-container-id-1 div.sk-estimator input.sk-toggleable__control:checked~label.sk-toggleable__label {background-color: #d4ebff;}#sk-container-id-1 div.sk-label input.sk-toggleable__control:checked~label.sk-toggleable__label {background-color: #d4ebff;}#sk-container-id-1 input.sk-hidden--visually {border: 0;clip: rect(1px 1px 1px 1px);clip: rect(1px, 1px, 1px, 1px);height: 1px;margin: -1px;overflow: hidden;padding: 0;position: absolute;width: 1px;}#sk-container-id-1 div.sk-estimator {font-family: monospace;background-color: #f0f8ff;border: 1px dotted black;border-radius: 0.25em;box-sizing: border-box;margin-bottom: 0.5em;}#sk-container-id-1 div.sk-estimator:hover {background-color: #d4ebff;}#sk-container-id-1 div.sk-parallel-item::after {content: \"\";width: 100%;border-bottom: 1px solid gray;flex-grow: 1;}#sk-container-id-1 div.sk-label:hover label.sk-toggleable__label {background-color: #d4ebff;}#sk-container-id-1 div.sk-serial::before {content: \"\";position: absolute;border-left: 1px solid gray;box-sizing: border-box;top: 0;bottom: 0;left: 50%;z-index: 0;}#sk-container-id-1 div.sk-serial {display: flex;flex-direction: column;align-items: center;background-color: white;padding-right: 0.2em;padding-left: 0.2em;position: relative;}#sk-container-id-1 div.sk-item {position: relative;z-index: 1;}#sk-container-id-1 div.sk-parallel {display: flex;align-items: stretch;justify-content: center;background-color: white;position: relative;}#sk-container-id-1 div.sk-item::before, #sk-container-id-1 div.sk-parallel-item::before {content: \"\";position: absolute;border-left: 1px solid gray;box-sizing: border-box;top: 0;bottom: 0;left: 50%;z-index: -1;}#sk-container-id-1 div.sk-parallel-item {display: flex;flex-direction: column;z-index: 1;position: relative;background-color: white;}#sk-container-id-1 div.sk-parallel-item:first-child::after {align-self: flex-end;width: 50%;}#sk-container-id-1 div.sk-parallel-item:last-child::after {align-self: flex-start;width: 50%;}#sk-container-id-1 div.sk-parallel-item:only-child::after {width: 0;}#sk-container-id-1 div.sk-dashed-wrapped {border: 1px dashed gray;margin: 0 0.4em 0.5em 0.4em;box-sizing: border-box;padding-bottom: 0.4em;background-color: white;}#sk-container-id-1 div.sk-label label {font-family: monospace;font-weight: bold;display: inline-block;line-height: 1.2em;}#sk-container-id-1 div.sk-label-container {text-align: center;}#sk-container-id-1 div.sk-container {/* jupyter's `normalize.less` sets `[hidden] { display: none; }` but bootstrap.min.css set `[hidden] { display: none !important; }` so we also need the `!important` here to be able to override the default hidden behavior on the sphinx rendered scikit-learn.org. See: https://github.com/scikit-learn/scikit-learn/issues/21755 */display: inline-block !important;position: relative;}#sk-container-id-1 div.sk-text-repr-fallback {display: none;}</style><div id=\"sk-container-id-1\" class=\"sk-top-container\"><div class=\"sk-text-repr-fallback\"><pre>LinearRegression()</pre><b>In a Jupyter environment, please rerun this cell to show the HTML representation or trust the notebook. <br />On GitHub, the HTML representation is unable to render, please try loading this page with nbviewer.org.</b></div><div class=\"sk-container\" hidden><div class=\"sk-item\"><div class=\"sk-estimator sk-toggleable\"><input class=\"sk-toggleable__control sk-hidden--visually\" id=\"sk-estimator-id-1\" type=\"checkbox\" checked><label for=\"sk-estimator-id-1\" class=\"sk-toggleable__label sk-toggleable__label-arrow\">LinearRegression</label><div class=\"sk-toggleable__content\"><pre>LinearRegression()</pre></div></div></div></div></div>"
      ],
      "text/plain": [
       "LinearRegression()"
      ]
     },
     "execution_count": 185,
     "metadata": {},
     "output_type": "execute_result"
    }
   ],
   "source": [
    "from sklearn.linear_model import LinearRegression\n",
    "lr= LinearRegression()\n",
    "lr.fit(X_train, y_train)"
   ]
  },
  {
   "cell_type": "code",
   "execution_count": null,
   "id": "a82849d0-d671-4616-b060-23488a1a5a61",
   "metadata": {},
   "outputs": [],
   "source": [
    "X_test = X_test.values  "
   ]
  },
  {
   "cell_type": "code",
   "execution_count": 193,
   "id": "fcbd9c90-7db0-4c7d-b101-c3bf959fb640",
   "metadata": {},
   "outputs": [
    {
     "name": "stderr",
     "output_type": "stream",
     "text": [
      "C:\\Users\\Lenovo\\anaconda3\\Lib\\site-packages\\sklearn\\base.py:439: UserWarning: X does not have valid feature names, but LinearRegression was fitted with feature names\n",
      "  warnings.warn(\n"
     ]
    }
   ],
   "source": [
    "y_pred = lr.predict(X_test)"
   ]
  },
  {
   "cell_type": "code",
   "execution_count": 194,
   "id": "173ecdbb-a344-4fb1-86b3-1ab034c89210",
   "metadata": {
    "scrolled": true
   },
   "outputs": [
    {
     "data": {
      "text/plain": [
       "array([9.43898755e+01, 1.08421862e+02, 1.26426332e+02, 1.35122537e+02,\n",
       "       1.45324890e+02, 1.37797465e+02, 1.23752283e+02, 9.59938927e+01,\n",
       "       1.36706900e+02, 1.59450530e+02, 8.42431700e+01, 1.05023615e+02,\n",
       "       1.75996946e+02, 8.56405052e+01, 1.72835144e+02, 1.34360269e+02,\n",
       "       1.61653874e+02, 2.19583395e+02, 1.00992636e+02, 1.01627736e+02,\n",
       "       1.55527725e+02, 1.41109615e+02, 1.43006348e+02, 9.73097246e+01,\n",
       "       1.97678386e+02, 1.40715998e+02, 1.38718800e+02, 1.03685343e+02,\n",
       "       1.53007397e+02, 5.67471511e+01, 1.23246974e+02, 1.11548680e+02,\n",
       "       1.57506928e+02, 1.56091832e+02, 1.51166942e+02, 9.47792969e+01,\n",
       "       8.29188216e+01, 2.59215972e+02, 1.53080471e+02, 9.71865526e+01,\n",
       "       1.90690191e+02, 3.08606550e+04, 5.33452088e+01, 1.39873432e+02,\n",
       "       1.12258290e+02, 1.29967246e+02, 1.71110645e+02, 1.39953410e+02,\n",
       "       6.16267743e+01, 1.26351327e+02, 1.34509679e+02, 1.28005045e+02,\n",
       "       1.00674157e+02, 1.37324001e+02, 8.57856122e+01, 1.74345970e+02,\n",
       "       1.32703194e+02, 1.50125076e+02, 1.13223856e+02, 1.05306618e+02,\n",
       "       5.23588724e+01, 1.34882306e+02, 1.66669171e+02, 3.08606550e+04,\n",
       "       9.08820580e+01, 1.24401053e+02, 1.77923480e+02, 1.49147462e+02,\n",
       "       1.66370806e+02, 9.82690084e+01, 1.30876340e+02, 5.11875907e+01,\n",
       "       1.60066893e+02, 3.21712572e+01, 8.68415890e+01, 1.48865186e+02,\n",
       "       1.13066963e+02, 2.06542886e+02, 1.47883109e+02, 1.28755463e+02,\n",
       "       2.17616845e+02, 1.58498578e+02, 1.21605735e+02, 1.09158198e+02,\n",
       "       2.33671558e+02, 1.71990573e+02, 1.46736189e+02, 1.22491149e+02,\n",
       "       1.57722092e+02, 7.29240343e+01, 1.56121913e+02, 1.51427375e+02,\n",
       "       1.36375446e+02, 1.26730697e+02, 1.37149720e+02, 1.17496807e+02,\n",
       "       1.23929615e+02, 8.33996399e+01, 8.85607491e+01, 1.23382067e+02,\n",
       "       1.92099942e+02, 1.22245163e+02, 1.70129950e+02, 1.23703416e+02,\n",
       "       1.58892784e+02, 1.79207459e+02, 8.93818923e+01, 7.77410072e+01,\n",
       "       2.12512319e+02, 1.69740849e+02, 1.86784417e+02, 1.36226001e+02,\n",
       "       1.24042078e+02, 6.96045063e+01, 1.69931484e+02, 1.05767392e+02,\n",
       "       9.56116137e+01, 1.60843699e+02, 8.15084138e+01, 1.45506232e+02,\n",
       "       1.19350273e+02, 4.73439702e+01, 8.07860324e+01, 1.11253820e+02,\n",
       "       1.70953096e+02, 1.87768256e+02, 8.62077694e+01, 1.08188322e+02,\n",
       "       3.08606550e+04, 6.47294772e+01, 1.40099985e+02, 1.26140459e+02,\n",
       "       2.06915248e+02, 9.56516851e+01, 1.86832470e+02, 1.82922503e+02,\n",
       "       1.72420150e+02, 1.58749547e+02, 9.91278141e+01, 1.35387189e+02,\n",
       "       1.37161858e+02, 1.38101387e+02, 1.54678389e+02, 1.71962809e+02,\n",
       "       1.56596280e+02, 1.38388329e+02, 8.09430214e+01, 1.56543502e+02,\n",
       "       3.08606550e+04, 1.35546882e+02, 1.89293669e+02, 1.53306095e+02,\n",
       "       1.80651039e+02, 1.56391783e+02, 2.00192580e+02, 8.08857599e+01,\n",
       "       1.27907397e+02, 1.27092866e+02, 1.26831620e+02, 5.90550927e+01,\n",
       "       9.92847018e+01, 2.14452407e+02, 1.49749636e+02, 1.70092618e+02,\n",
       "       1.21523707e+02, 1.21570371e+01, 1.55924220e+02, 1.25510759e+02,\n",
       "       1.03648793e+02, 8.30922204e+01, 1.16347317e+02, 1.63624025e+02,\n",
       "       2.06652431e+02, 1.24133217e+02, 2.24872091e+02, 1.98658183e+02,\n",
       "       1.90119367e+02, 1.43201444e+02, 1.45208293e+02, 1.19338726e+02,\n",
       "       1.42506378e+02, 2.03056051e+02, 1.20541305e+02, 1.12937462e+02,\n",
       "       7.81628834e+01, 1.92844340e+02, 1.05980036e+02, 1.15211649e+02,\n",
       "       1.93282837e+02, 1.41552196e+02, 1.37655395e+02, 1.74827209e+02,\n",
       "       1.04954881e+02, 1.20755556e+02, 1.30351669e+02, 1.95236905e+02,\n",
       "       8.30404871e+01, 8.76547557e+01, 1.49955223e+02, 1.19621582e+02,\n",
       "       1.29365623e+02, 7.49056011e+01, 7.54287669e+01, 1.17723522e+02,\n",
       "       6.09164427e+01, 1.05872695e+02, 9.74695643e+01, 1.28612977e+02,\n",
       "       1.68071985e+02, 1.40321627e+02, 8.95293137e+01, 1.63275693e+02,\n",
       "       1.02745036e+02, 1.01617781e+02, 2.16994126e+02, 8.15071844e+01,\n",
       "       1.44554128e+02, 1.88887448e+02, 1.24853657e+02, 5.13426289e+01,\n",
       "       1.18226985e+02, 1.09372009e+02, 1.77578878e+02, 1.00315461e+02,\n",
       "       1.47256544e+02, 1.38555034e+02, 1.43469768e+02, 1.18705124e+02,\n",
       "       2.53892774e+02, 1.26793508e+02, 2.29789222e+02, 8.23702916e+01,\n",
       "       5.44949784e+01, 2.11589524e+02, 1.39453863e+02, 1.07850819e+02,\n",
       "       1.06687624e+02, 1.93971843e+02, 1.15912693e+02, 4.73570026e+01,\n",
       "       1.53340829e+02, 8.99655823e+01, 1.68409729e+02, 1.20518016e+02,\n",
       "       8.05491920e+01, 7.63538106e+01, 1.58477688e+02, 5.65708800e+01,\n",
       "       1.84493890e+02, 6.74404331e+01, 1.06696427e+02, 1.54290908e+02,\n",
       "       1.73010517e+02, 1.01714674e+02, 3.92585993e+01, 2.08433659e+02,\n",
       "       1.11053441e+02, 1.53260160e+02, 8.33227257e+01, 1.27805875e+02,\n",
       "       8.23138457e+01, 1.32891027e+02, 1.38479283e+02, 1.00082612e+02,\n",
       "       1.24812846e+02, 9.44719470e+01, 8.66917286e+01, 2.04662020e+02,\n",
       "       8.66111782e+01, 1.49041117e+02, 1.46840338e+02, 1.41501119e+02,\n",
       "       9.71649385e+01, 1.29018813e+02, 1.42103153e+02, 8.85084455e+01,\n",
       "       1.86694975e+02, 1.06339908e+02, 1.50819416e+02, 8.46422228e+01,\n",
       "       2.34766941e+02, 1.71137741e+02, 1.64947856e+02, 1.27979625e+02,\n",
       "       5.85500989e+01, 1.06213924e+02, 1.22423869e+02, 1.46211244e+02,\n",
       "       1.96745184e+02, 1.24554734e+02, 1.42558812e+02, 9.60298954e+01,\n",
       "       1.57956859e+02, 1.20191694e+02, 1.16959884e+02, 1.04491920e+02,\n",
       "       1.13220478e+02, 1.33280825e+02, 1.26990279e+02, 2.09079157e+02])"
      ]
     },
     "execution_count": 194,
     "metadata": {},
     "output_type": "execute_result"
    }
   ],
   "source": [
    "y_pred"
   ]
  },
  {
   "cell_type": "code",
   "execution_count": 195,
   "id": "7c4802bb-f1ea-433c-8cab-99b2faefba50",
   "metadata": {},
   "outputs": [
    {
     "data": {
      "text/plain": [
       "0      85.0\n",
       "1      64.0\n",
       "2      95.0\n",
       "3      79.0\n",
       "4      41.0\n",
       "       ... \n",
       "995    76.0\n",
       "996    59.0\n",
       "997    59.0\n",
       "998    84.0\n",
       "999    79.0\n",
       "Name: UnitsSold, Length: 1000, dtype: float64"
      ]
     },
     "execution_count": 195,
     "metadata": {},
     "output_type": "execute_result"
    }
   ],
   "source": [
    "y"
   ]
  },
  {
   "cell_type": "code",
   "execution_count": 191,
   "id": "c222032d-6d57-4928-a75e-65e7e0b95454",
   "metadata": {},
   "outputs": [
    {
     "name": "stdout",
     "output_type": "stream",
     "text": [
      "95.44262274318503\n"
     ]
    }
   ],
   "source": [
    "from sklearn.metrics import mean_squared_error, r2_score\n",
    "print(mean_squared_error(y_test,y_pred)**0.5)"
   ]
  },
  {
   "cell_type": "code",
   "execution_count": 192,
   "id": "43392c2d-5045-4788-b78e-413d70f02c42",
   "metadata": {},
   "outputs": [
    {
     "name": "stdout",
     "output_type": "stream",
     "text": [
      "0.9992706086387702\n"
     ]
    }
   ],
   "source": [
    "print(r2_score(y_test,y_pred))"
   ]
  },
  {
   "cell_type": "code",
   "execution_count": null,
   "id": "3672cdf5-276f-4296-acd9-ba0582ba102e",
   "metadata": {},
   "outputs": [],
   "source": []
  },
  {
   "cell_type": "code",
   "execution_count": null,
   "id": "900b847e-f128-4653-b8be-d2688cb2484a",
   "metadata": {},
   "outputs": [],
   "source": []
  }
 ],
 "metadata": {
  "kernelspec": {
   "display_name": "Python 3 (ipykernel)",
   "language": "python",
   "name": "python3"
  },
  "language_info": {
   "codemirror_mode": {
    "name": "ipython",
    "version": 3
   },
   "file_extension": ".py",
   "mimetype": "text/x-python",
   "name": "python",
   "nbconvert_exporter": "python",
   "pygments_lexer": "ipython3",
   "version": "3.11.7"
  }
 },
 "nbformat": 4,
 "nbformat_minor": 5
}
